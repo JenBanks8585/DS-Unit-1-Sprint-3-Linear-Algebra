{
  "nbformat": 4,
  "nbformat_minor": 0,
  "metadata": {
    "colab": {
      "name": "Jen_Banks_LS_DS_132_Intermediate_Linear_Algebra_Assignment.ipynb",
      "provenance": [],
      "collapsed_sections": [],
      "include_colab_link": true
    },
    "kernelspec": {
      "name": "python3",
      "display_name": "Python 3"
    }
  },
  "cells": [
    {
      "cell_type": "markdown",
      "metadata": {
        "id": "view-in-github",
        "colab_type": "text"
      },
      "source": [
        "<a href=\"https://colab.research.google.com/github/JenBanks8585/DS-Unit-1-Sprint-3-Linear-Algebra/blob/master/module2-intermediate-linear-algebra/LS_DS_132_Intermediate_Linear_Algebra_Assignment.ipynb\" target=\"_parent\"><img src=\"https://colab.research.google.com/assets/colab-badge.svg\" alt=\"Open In Colab\"/></a>"
      ]
    },
    {
      "cell_type": "markdown",
      "metadata": {
        "id": "GSNiYn8lr6nN",
        "colab_type": "text"
      },
      "source": [
        "# Statistics"
      ]
    },
    {
      "cell_type": "code",
      "metadata": {
        "id": "pOKNKgDx79fL",
        "colab_type": "code",
        "colab": {}
      },
      "source": [
        "import numpy as np\n",
        "import pandas as pd\n",
        "import matplotlib.pyplot as plt\n",
        "import random\n"
      ],
      "execution_count": 0,
      "outputs": []
    },
    {
      "cell_type": "markdown",
      "metadata": {
        "id": "3d4izUhQvh2_",
        "colab_type": "text"
      },
      "source": [
        "## 1.1 Sales for the past week was the following amounts: [3505, 2400, 3027, 2798, 3700, 3250, 2689]. Without using library functions, what is the mean, variance, and standard deviation of of sales from last week? (for extra bonus points, write your own function that can calculate these two values for any sized list)"
      ]
    },
    {
      "cell_type": "code",
      "metadata": {
        "id": "w1iZfYvBtEA1",
        "colab_type": "code",
        "colab": {
          "base_uri": "https://localhost:8080/",
          "height": 35
        },
        "outputId": "5f14a09d-632c-4ed2-dd10-b0b9e06228ed"
      },
      "source": [
        "#Creating an array with the given values\n",
        "\n",
        "sales_past_week=np.array([3505, 2400, 3027, 2798, 3700, 3250, 2689])\n",
        "sales_past_week"
      ],
      "execution_count": 4,
      "outputs": [
        {
          "output_type": "execute_result",
          "data": {
            "text/plain": [
              "array([3505, 2400, 3027, 2798, 3700, 3250, 2689])"
            ]
          },
          "metadata": {
            "tags": []
          },
          "execution_count": 4
        }
      ]
    },
    {
      "cell_type": "code",
      "metadata": {
        "id": "TZu_dPht9L4r",
        "colab_type": "code",
        "colab": {
          "base_uri": "https://localhost:8080/",
          "height": 54
        },
        "outputId": "1ea00b8d-1bc7-4382-cca6-af388e52ca8f"
      },
      "source": [
        "# Creating a list comprehension that calculates mean\n",
        "\n",
        "sales_past_week_mean= sum([a for a in sales_past_week])/len(sales_past_week)\n",
        "print('sales_past_week_mean: ', sales_past_week_mean)\n",
        "print('sales_past_week_mean: ', '{:.2f}'.format(sales_past_week_mean))"
      ],
      "execution_count": 42,
      "outputs": [
        {
          "output_type": "stream",
          "text": [
            "sales_past_week_mean:  3052.714285714286\n",
            "sales_past_week_mean:  3052.71\n"
          ],
          "name": "stdout"
        }
      ]
    },
    {
      "cell_type": "code",
      "metadata": {
        "id": "-EjkzNSCFFs0",
        "colab_type": "code",
        "colab": {
          "base_uri": "https://localhost:8080/",
          "height": 54
        },
        "outputId": "c60bbb18-afce-4f09-e915-5221e2246309"
      },
      "source": [
        "# Creating a list comprehension that calculates variance\n",
        "\n",
        "sales_past_week_variance= sum([(a-sales_past_week_mean)**2 for a in sales_past_week])/len(sales_past_week)\n",
        "print('sales_past_week_variance: ', sales_past_week_variance)\n",
        "print('sales_past_week_variance: ', '{:.2f}'.format(sales_past_week_variance))"
      ],
      "execution_count": 43,
      "outputs": [
        {
          "output_type": "stream",
          "text": [
            "sales_past_week_variance:  183761.06122448976\n",
            "sales_past_week_variance:  183761.06\n"
          ],
          "name": "stdout"
        }
      ]
    },
    {
      "cell_type": "code",
      "metadata": {
        "id": "dmI4gWEiGSyf",
        "colab_type": "code",
        "colab": {
          "base_uri": "https://localhost:8080/",
          "height": 54
        },
        "outputId": "b4eecc50-33d2-4652-d7d8-be72f82f1000"
      },
      "source": [
        "# Creating a list comprehension that calculates standard deviation\n",
        "\n",
        "sales_past_week_std= (sum([(a-sales_past_week_mean)**2 for a in sales_past_week])/len(sales_past_week))**.5\n",
        "print('sales_past_week_std: ', sales_past_week_std)\n",
        "print('sales_past_week_std: ', '{:.2f}'.format(sales_past_week_std))"
      ],
      "execution_count": 44,
      "outputs": [
        {
          "output_type": "stream",
          "text": [
            "sales_past_week_std:  428.67360686714756\n",
            "sales_past_week_std:  428.67\n"
          ],
          "name": "stdout"
        }
      ]
    },
    {
      "cell_type": "code",
      "metadata": {
        "id": "xWYqqPTwGx2C",
        "colab_type": "code",
        "colab": {
          "base_uri": "https://localhost:8080/",
          "height": 72
        },
        "outputId": "b29efde3-6a24-474a-cae7-0ce4fe96e9b7"
      },
      "source": [
        "# Checking computations using library\n",
        "\n",
        "print(sales_past_week.mean())\n",
        "print(sales_past_week.var())\n",
        "print(sales_past_week.std())\n"
      ],
      "execution_count": 41,
      "outputs": [
        {
          "output_type": "stream",
          "text": [
            "3052.714285714286\n",
            "183761.06122448976\n",
            "428.67360686714756\n"
          ],
          "name": "stdout"
        }
      ]
    },
    {
      "cell_type": "markdown",
      "metadata": {
        "id": "oh63KaOctEp_",
        "colab_type": "text"
      },
      "source": [
        "## 1.2 Find the covariance between last week's sales numbers and the number of customers that entered the store last week: [127, 80, 105, 92, 120, 115, 93] (you may use librray functions for calculating the covariance since we didn't specifically talk about its formula)"
      ]
    },
    {
      "cell_type": "code",
      "metadata": {
        "id": "G7ZB0krot564",
        "colab_type": "code",
        "colab": {
          "base_uri": "https://localhost:8080/",
          "height": 35
        },
        "outputId": "911032ff-15cd-4b43-fa87-9de492dd79c2"
      },
      "source": [
        "# Creating an array for customers\n",
        "\n",
        "customers= np.array([127, 80, 105, 92, 120, 115, 93] )\n",
        "customers"
      ],
      "execution_count": 46,
      "outputs": [
        {
          "output_type": "execute_result",
          "data": {
            "text/plain": [
              "array([127,  80, 105,  92, 120, 115,  93])"
            ]
          },
          "metadata": {
            "tags": []
          },
          "execution_count": 46
        }
      ]
    },
    {
      "cell_type": "code",
      "metadata": {
        "id": "V1lL-e0cIrOt",
        "colab_type": "code",
        "colab": {
          "base_uri": "https://localhost:8080/",
          "height": 54
        },
        "outputId": "4ee06d23-3b48-4a63-9367-5a15cfe23adb"
      },
      "source": [
        "# Computing covariance betwee sales and number of customers\n",
        "\n",
        "np.cov(customers, sales_past_week)"
      ],
      "execution_count": 55,
      "outputs": [
        {
          "output_type": "execute_result",
          "data": {
            "text/plain": [
              "array([[   290.95238095,   7604.35714286],\n",
              "       [  7604.35714286, 214387.9047619 ]])"
            ]
          },
          "metadata": {
            "tags": []
          },
          "execution_count": 55
        }
      ]
    },
    {
      "cell_type": "code",
      "metadata": {
        "id": "qWldQ1S6Pa2I",
        "colab_type": "code",
        "colab": {
          "base_uri": "https://localhost:8080/",
          "height": 258
        },
        "outputId": "b5522936-ff69-4a9b-ce8c-a9336c7aee2b"
      },
      "source": [
        "#Creating a dataframe\n",
        "\n",
        "df=pd.DataFrame({'customers':[127, 80, 105, 92, 120, 115, 93],\n",
        "                 'sales':[3505, 2400, 3027, 2798, 3700, 3250, 2689]})\n",
        "df"
      ],
      "execution_count": 87,
      "outputs": [
        {
          "output_type": "execute_result",
          "data": {
            "text/html": [
              "<div>\n",
              "<style scoped>\n",
              "    .dataframe tbody tr th:only-of-type {\n",
              "        vertical-align: middle;\n",
              "    }\n",
              "\n",
              "    .dataframe tbody tr th {\n",
              "        vertical-align: top;\n",
              "    }\n",
              "\n",
              "    .dataframe thead th {\n",
              "        text-align: right;\n",
              "    }\n",
              "</style>\n",
              "<table border=\"1\" class=\"dataframe\">\n",
              "  <thead>\n",
              "    <tr style=\"text-align: right;\">\n",
              "      <th></th>\n",
              "      <th>customers</th>\n",
              "      <th>sales</th>\n",
              "    </tr>\n",
              "  </thead>\n",
              "  <tbody>\n",
              "    <tr>\n",
              "      <th>0</th>\n",
              "      <td>127</td>\n",
              "      <td>3505</td>\n",
              "    </tr>\n",
              "    <tr>\n",
              "      <th>1</th>\n",
              "      <td>80</td>\n",
              "      <td>2400</td>\n",
              "    </tr>\n",
              "    <tr>\n",
              "      <th>2</th>\n",
              "      <td>105</td>\n",
              "      <td>3027</td>\n",
              "    </tr>\n",
              "    <tr>\n",
              "      <th>3</th>\n",
              "      <td>92</td>\n",
              "      <td>2798</td>\n",
              "    </tr>\n",
              "    <tr>\n",
              "      <th>4</th>\n",
              "      <td>120</td>\n",
              "      <td>3700</td>\n",
              "    </tr>\n",
              "    <tr>\n",
              "      <th>5</th>\n",
              "      <td>115</td>\n",
              "      <td>3250</td>\n",
              "    </tr>\n",
              "    <tr>\n",
              "      <th>6</th>\n",
              "      <td>93</td>\n",
              "      <td>2689</td>\n",
              "    </tr>\n",
              "  </tbody>\n",
              "</table>\n",
              "</div>"
            ],
            "text/plain": [
              "   customers  sales\n",
              "0        127   3505\n",
              "1         80   2400\n",
              "2        105   3027\n",
              "3         92   2798\n",
              "4        120   3700\n",
              "5        115   3250\n",
              "6         93   2689"
            ]
          },
          "metadata": {
            "tags": []
          },
          "execution_count": 87
        }
      ]
    },
    {
      "cell_type": "code",
      "metadata": {
        "id": "Fb2mPl5bRqd1",
        "colab_type": "code",
        "colab": {
          "base_uri": "https://localhost:8080/",
          "height": 108
        },
        "outputId": "db00aa56-201f-4a63-abb6-cbdea4cca0e0"
      },
      "source": [
        "#Checking covariance using pandas library\n",
        "\n",
        "df.cov()"
      ],
      "execution_count": 88,
      "outputs": [
        {
          "output_type": "execute_result",
          "data": {
            "text/html": [
              "<div>\n",
              "<style scoped>\n",
              "    .dataframe tbody tr th:only-of-type {\n",
              "        vertical-align: middle;\n",
              "    }\n",
              "\n",
              "    .dataframe tbody tr th {\n",
              "        vertical-align: top;\n",
              "    }\n",
              "\n",
              "    .dataframe thead th {\n",
              "        text-align: right;\n",
              "    }\n",
              "</style>\n",
              "<table border=\"1\" class=\"dataframe\">\n",
              "  <thead>\n",
              "    <tr style=\"text-align: right;\">\n",
              "      <th></th>\n",
              "      <th>customers</th>\n",
              "      <th>sales</th>\n",
              "    </tr>\n",
              "  </thead>\n",
              "  <tbody>\n",
              "    <tr>\n",
              "      <th>customers</th>\n",
              "      <td>290.952381</td>\n",
              "      <td>7604.357143</td>\n",
              "    </tr>\n",
              "    <tr>\n",
              "      <th>sales</th>\n",
              "      <td>7604.357143</td>\n",
              "      <td>214387.904762</td>\n",
              "    </tr>\n",
              "  </tbody>\n",
              "</table>\n",
              "</div>"
            ],
            "text/plain": [
              "             customers          sales\n",
              "customers   290.952381    7604.357143\n",
              "sales      7604.357143  214387.904762"
            ]
          },
          "metadata": {
            "tags": []
          },
          "execution_count": 88
        }
      ]
    },
    {
      "cell_type": "code",
      "metadata": {
        "id": "_HkhYzl_JEWC",
        "colab_type": "code",
        "colab": {
          "base_uri": "https://localhost:8080/",
          "height": 295
        },
        "outputId": "a106a15f-d64e-42dc-df77-d173610196d6"
      },
      "source": [
        "# Visualization\n",
        "\n",
        "plt.scatter(customers, sales_past_week)\n",
        "plt.xlim(0,150)\n",
        "plt.ylim(0, 4000)\n",
        "plt.grid()\n",
        "\n",
        "plt.xlabel('Number of Customers')\n",
        "plt.ylabel('Sales in Dollars')\n",
        "plt.title('# of Customers vs Sales')\n",
        "\n",
        "plt.show()"
      ],
      "execution_count": 89,
      "outputs": [
        {
          "output_type": "display_data",
          "data": {
            "image/png": "[encoded data removed]",
            "text/plain": [
              "<Figure size 432x288 with 1 Axes>"
            ]
          },
          "metadata": {
            "tags": []
          }
        }
      ]
    },
    {
      "cell_type": "markdown",
      "metadata": {
        "id": "J9SbUY9mt66I",
        "colab_type": "text"
      },
      "source": [
        "## 1.3 Find the standard deviation of customers who entered the store last week. Then, use the standard deviations of both sales and customers to standardize the covariance to find the correlation coefficient that summarizes the relationship between sales and customers. (You may use library functions to check your work.)"
      ]
    },
    {
      "cell_type": "code",
      "metadata": {
        "id": "GdPEAxVcKh4D",
        "colab_type": "code",
        "colab": {
          "base_uri": "https://localhost:8080/",
          "height": 72
        },
        "outputId": "af472454-a6f0-42fc-cf1e-7f920cf77fb3"
      },
      "source": [
        "# Creating a list comprehension that calculates mean of cutomers\n",
        "\n",
        "customers_mean= sum([a for a in customers])/len(customers)\n",
        "print('customers_mean: ', '{:.2f}'.format(customers_mean))\n",
        "\n",
        "# Creating a list comprehension that calculates variance of cutomers\n",
        "\n",
        "customers_variance= sum([(a-customers_mean)**2 for a in customers])/len(customers)\n",
        "print('customers_variance: ', '{:.2f}'.format(customers_variance))\n",
        "\n",
        "# Creating a list comprehension that calculates standard deviation of customers\n",
        "\n",
        "customers_std= (sum([(a-customers_mean)**2 for a in customers])/len(customers))**.5\n",
        "print('customers_std: ', '{:.2f}'.format(customers_std))"
      ],
      "execution_count": 90,
      "outputs": [
        {
          "output_type": "stream",
          "text": [
            "customers_mean:  104.57\n",
            "customers_variance:  249.39\n",
            "customers_std:  15.79\n"
          ],
          "name": "stdout"
        }
      ]
    },
    {
      "cell_type": "code",
      "metadata": {
        "id": "FKT6hBbvLmO-",
        "colab_type": "code",
        "colab": {
          "base_uri": "https://localhost:8080/",
          "height": 72
        },
        "outputId": "5387e886-644b-4230-d0cb-a1ef2b399e45"
      },
      "source": [
        "# Double check using library\n",
        "\n",
        "print('{:.2f}'.format(customers.mean()))\n",
        "print('{:.2f}'.format(customers.var()))\n",
        "print('{:.2f}'.format(customers.std()))"
      ],
      "execution_count": 58,
      "outputs": [
        {
          "output_type": "stream",
          "text": [
            "104.57\n",
            "249.39\n",
            "15.79\n"
          ],
          "name": "stdout"
        }
      ]
    },
    {
      "cell_type": "code",
      "metadata": {
        "id": "vFJms2YRrKhY",
        "colab_type": "code",
        "colab": {
          "base_uri": "https://localhost:8080/",
          "height": 35
        },
        "outputId": "6da7a212-0ca0-46ef-9354-412a0af0f216"
      },
      "source": [
        "# Computing for Correlation Coefficient by hand\n",
        "\n",
        "df_correff= df['customers'].cov(df['sales'])/((df['customers']).std()*(df['sales']).std())\n",
        "df_correff"
      ],
      "execution_count": 111,
      "outputs": [
        {
          "output_type": "execute_result",
          "data": {
            "text/plain": [
              "0.9628339778148909"
            ]
          },
          "metadata": {
            "tags": []
          },
          "execution_count": 111
        }
      ]
    },
    {
      "cell_type": "code",
      "metadata": {
        "id": "uRq_CWdlN9Wl",
        "colab_type": "code",
        "colab": {
          "base_uri": "https://localhost:8080/",
          "height": 35
        },
        "outputId": "eba57f78-36bd-478d-9c4a-d1dffa8b68a9"
      },
      "source": [
        "#Checking using pandas\n",
        "\n",
        "df['customers'].corr(df['sales'])"
      ],
      "execution_count": 112,
      "outputs": [
        {
          "output_type": "execute_result",
          "data": {
            "text/plain": [
              "0.9628339778148909"
            ]
          },
          "metadata": {
            "tags": []
          },
          "execution_count": 112
        }
      ]
    },
    {
      "cell_type": "code",
      "metadata": {
        "id": "FraQGO6dM-Km",
        "colab_type": "code",
        "colab": {
          "base_uri": "https://localhost:8080/",
          "height": 54
        },
        "outputId": "a89e2275-fe97-4fca-9abf-db1ab9cfc059"
      },
      "source": [
        "#Checking using numpy library\n",
        "np.corrcoef(customers, sales_past_week)\n"
      ],
      "execution_count": 113,
      "outputs": [
        {
          "output_type": "execute_result",
          "data": {
            "text/plain": [
              "array([[1.        , 0.96283398],\n",
              "       [0.96283398, 1.        ]])"
            ]
          },
          "metadata": {
            "tags": []
          },
          "execution_count": 113
        }
      ]
    },
    {
      "cell_type": "code",
      "metadata": {
        "id": "urYrF_wwVB8Z",
        "colab_type": "code",
        "colab": {
          "base_uri": "https://localhost:8080/",
          "height": 108
        },
        "outputId": "a8c15fa1-b7b2-4e7e-b5c2-66ade25d078b"
      },
      "source": [
        "#Checking again by pandas, another way\n",
        "\n",
        "df.corr()"
      ],
      "execution_count": 116,
      "outputs": [
        {
          "output_type": "execute_result",
          "data": {
            "text/html": [
              "<div>\n",
              "<style scoped>\n",
              "    .dataframe tbody tr th:only-of-type {\n",
              "        vertical-align: middle;\n",
              "    }\n",
              "\n",
              "    .dataframe tbody tr th {\n",
              "        vertical-align: top;\n",
              "    }\n",
              "\n",
              "    .dataframe thead th {\n",
              "        text-align: right;\n",
              "    }\n",
              "</style>\n",
              "<table border=\"1\" class=\"dataframe\">\n",
              "  <thead>\n",
              "    <tr style=\"text-align: right;\">\n",
              "      <th></th>\n",
              "      <th>customers</th>\n",
              "      <th>sales</th>\n",
              "    </tr>\n",
              "  </thead>\n",
              "  <tbody>\n",
              "    <tr>\n",
              "      <th>customers</th>\n",
              "      <td>1.000000</td>\n",
              "      <td>0.962834</td>\n",
              "    </tr>\n",
              "    <tr>\n",
              "      <th>sales</th>\n",
              "      <td>0.962834</td>\n",
              "      <td>1.000000</td>\n",
              "    </tr>\n",
              "  </tbody>\n",
              "</table>\n",
              "</div>"
            ],
            "text/plain": [
              "           customers     sales\n",
              "customers   1.000000  0.962834\n",
              "sales       0.962834  1.000000"
            ]
          },
          "metadata": {
            "tags": []
          },
          "execution_count": 116
        }
      ]
    },
    {
      "cell_type": "markdown",
      "metadata": {
        "id": "IbZVf7nmujPJ",
        "colab_type": "text"
      },
      "source": [
        "## 1.4 Use pandas to import a cleaned version of the titanic dataset from the following link: [Titanic Dataset](https://raw.githubusercontent.com/Geoyi/Cleaning-Titanic-Data/master/titanic_clean.csv)\n",
        "\n",
        "## Calculate the variance-covariance matrix and correlation matrix for the titanic dataset's numeric columns. (you can encode some of the categorical variables and include them as a stretch goal if you finish early)"
      ]
    },
    {
      "cell_type": "code",
      "metadata": {
        "id": "0TWgUIiaCFzq",
        "colab_type": "code",
        "colab": {
          "base_uri": "https://localhost:8080/",
          "height": 207
        },
        "outputId": "4dd9de6d-2c35-4543-c0c4-546cd9d4fc98"
      },
      "source": [
        "titanic=pd.read_csv('https://raw.githubusercontent.com/Geoyi/Cleaning-Titanic-Data/master/titanic_clean.csv')\n",
        "titanic.head(3)"
      ],
      "execution_count": 122,
      "outputs": [
        {
          "output_type": "execute_result",
          "data": {
            "text/html": [
              "<div>\n",
              "<style scoped>\n",
              "    .dataframe tbody tr th:only-of-type {\n",
              "        vertical-align: middle;\n",
              "    }\n",
              "\n",
              "    .dataframe tbody tr th {\n",
              "        vertical-align: top;\n",
              "    }\n",
              "\n",
              "    .dataframe thead th {\n",
              "        text-align: right;\n",
              "    }\n",
              "</style>\n",
              "<table border=\"1\" class=\"dataframe\">\n",
              "  <thead>\n",
              "    <tr style=\"text-align: right;\">\n",
              "      <th></th>\n",
              "      <th>Unnamed: 0</th>\n",
              "      <th>pclass</th>\n",
              "      <th>survived</th>\n",
              "      <th>name</th>\n",
              "      <th>sex</th>\n",
              "      <th>age</th>\n",
              "      <th>sibsp</th>\n",
              "      <th>parch</th>\n",
              "      <th>ticket</th>\n",
              "      <th>fare</th>\n",
              "      <th>cabin</th>\n",
              "      <th>embarked</th>\n",
              "      <th>boat</th>\n",
              "      <th>body</th>\n",
              "      <th>home.dest</th>\n",
              "      <th>has_cabin_number</th>\n",
              "    </tr>\n",
              "  </thead>\n",
              "  <tbody>\n",
              "    <tr>\n",
              "      <th>0</th>\n",
              "      <td>1</td>\n",
              "      <td>1.0</td>\n",
              "      <td>1.0</td>\n",
              "      <td>Allen, Miss. Elisabeth Walton</td>\n",
              "      <td>female</td>\n",
              "      <td>29.0000</td>\n",
              "      <td>0.0</td>\n",
              "      <td>0.0</td>\n",
              "      <td>24160</td>\n",
              "      <td>211.3375</td>\n",
              "      <td>B5</td>\n",
              "      <td>S</td>\n",
              "      <td>2</td>\n",
              "      <td>NaN</td>\n",
              "      <td>St Louis, MO</td>\n",
              "      <td>1</td>\n",
              "    </tr>\n",
              "    <tr>\n",
              "      <th>1</th>\n",
              "      <td>2</td>\n",
              "      <td>1.0</td>\n",
              "      <td>1.0</td>\n",
              "      <td>Allison, Master. Hudson Trevor</td>\n",
              "      <td>male</td>\n",
              "      <td>0.9167</td>\n",
              "      <td>1.0</td>\n",
              "      <td>2.0</td>\n",
              "      <td>113781</td>\n",
              "      <td>151.5500</td>\n",
              "      <td>C22 C26</td>\n",
              "      <td>S</td>\n",
              "      <td>11</td>\n",
              "      <td>NaN</td>\n",
              "      <td>Montreal, PQ / Chesterville, ON</td>\n",
              "      <td>1</td>\n",
              "    </tr>\n",
              "    <tr>\n",
              "      <th>2</th>\n",
              "      <td>3</td>\n",
              "      <td>1.0</td>\n",
              "      <td>0.0</td>\n",
              "      <td>Allison, Miss. Helen Loraine</td>\n",
              "      <td>female</td>\n",
              "      <td>2.0000</td>\n",
              "      <td>1.0</td>\n",
              "      <td>2.0</td>\n",
              "      <td>113781</td>\n",
              "      <td>151.5500</td>\n",
              "      <td>C22 C26</td>\n",
              "      <td>S</td>\n",
              "      <td>NaN</td>\n",
              "      <td>NaN</td>\n",
              "      <td>Montreal, PQ / Chesterville, ON</td>\n",
              "      <td>1</td>\n",
              "    </tr>\n",
              "  </tbody>\n",
              "</table>\n",
              "</div>"
            ],
            "text/plain": [
              "   Unnamed: 0  pclass  ...                        home.dest has_cabin_number\n",
              "0           1     1.0  ...                     St Louis, MO                1\n",
              "1           2     1.0  ...  Montreal, PQ / Chesterville, ON                1\n",
              "2           3     1.0  ...  Montreal, PQ / Chesterville, ON                1\n",
              "\n",
              "[3 rows x 16 columns]"
            ]
          },
          "metadata": {
            "tags": []
          },
          "execution_count": 122
        }
      ]
    },
    {
      "cell_type": "code",
      "metadata": {
        "id": "G7FlxW4rVkEc",
        "colab_type": "code",
        "colab": {
          "base_uri": "https://localhost:8080/",
          "height": 318
        },
        "outputId": "967572f7-7428-492a-dec3-1b1c7758edcc"
      },
      "source": [
        "#Calcuting covariance matrix\n",
        "\n",
        "titanic.cov()"
      ],
      "execution_count": 119,
      "outputs": [
        {
          "output_type": "execute_result",
          "data": {
            "text/html": [
              "<div>\n",
              "<style scoped>\n",
              "    .dataframe tbody tr th:only-of-type {\n",
              "        vertical-align: middle;\n",
              "    }\n",
              "\n",
              "    .dataframe tbody tr th {\n",
              "        vertical-align: top;\n",
              "    }\n",
              "\n",
              "    .dataframe thead th {\n",
              "        text-align: right;\n",
              "    }\n",
              "</style>\n",
              "<table border=\"1\" class=\"dataframe\">\n",
              "  <thead>\n",
              "    <tr style=\"text-align: right;\">\n",
              "      <th></th>\n",
              "      <th>Unnamed: 0</th>\n",
              "      <th>pclass</th>\n",
              "      <th>survived</th>\n",
              "      <th>age</th>\n",
              "      <th>sibsp</th>\n",
              "      <th>parch</th>\n",
              "      <th>fare</th>\n",
              "      <th>body</th>\n",
              "      <th>has_cabin_number</th>\n",
              "    </tr>\n",
              "  </thead>\n",
              "  <tbody>\n",
              "    <tr>\n",
              "      <th>Unnamed: 0</th>\n",
              "      <td>143117.500000</td>\n",
              "      <td>284.357034</td>\n",
              "      <td>-53.967125</td>\n",
              "      <td>-1442.939812</td>\n",
              "      <td>25.828746</td>\n",
              "      <td>1.172783</td>\n",
              "      <td>-9410.735123</td>\n",
              "      <td>591.579132</td>\n",
              "      <td>-95.438885</td>\n",
              "    </tr>\n",
              "    <tr>\n",
              "      <th>pclass</th>\n",
              "      <td>284.357034</td>\n",
              "      <td>0.701969</td>\n",
              "      <td>-0.127248</td>\n",
              "      <td>-3.954605</td>\n",
              "      <td>0.053090</td>\n",
              "      <td>0.013287</td>\n",
              "      <td>-24.227788</td>\n",
              "      <td>-2.876653</td>\n",
              "      <td>-0.249992</td>\n",
              "    </tr>\n",
              "    <tr>\n",
              "      <th>survived</th>\n",
              "      <td>-53.967125</td>\n",
              "      <td>-0.127248</td>\n",
              "      <td>0.236250</td>\n",
              "      <td>-0.314343</td>\n",
              "      <td>-0.014088</td>\n",
              "      <td>0.034776</td>\n",
              "      <td>6.146023</td>\n",
              "      <td>0.000000</td>\n",
              "      <td>0.061406</td>\n",
              "    </tr>\n",
              "    <tr>\n",
              "      <th>age</th>\n",
              "      <td>-1442.939812</td>\n",
              "      <td>-3.954605</td>\n",
              "      <td>-0.314343</td>\n",
              "      <td>165.850021</td>\n",
              "      <td>-2.559806</td>\n",
              "      <td>-1.459378</td>\n",
              "      <td>114.416613</td>\n",
              "      <td>81.622922</td>\n",
              "      <td>1.463138</td>\n",
              "    </tr>\n",
              "    <tr>\n",
              "      <th>sibsp</th>\n",
              "      <td>25.828746</td>\n",
              "      <td>0.053090</td>\n",
              "      <td>-0.014088</td>\n",
              "      <td>-2.559806</td>\n",
              "      <td>1.085052</td>\n",
              "      <td>0.336833</td>\n",
              "      <td>8.641768</td>\n",
              "      <td>-8.708471</td>\n",
              "      <td>-0.003946</td>\n",
              "    </tr>\n",
              "    <tr>\n",
              "      <th>parch</th>\n",
              "      <td>1.172783</td>\n",
              "      <td>0.013287</td>\n",
              "      <td>0.034776</td>\n",
              "      <td>-1.459378</td>\n",
              "      <td>0.336833</td>\n",
              "      <td>0.749195</td>\n",
              "      <td>9.928031</td>\n",
              "      <td>4.237190</td>\n",
              "      <td>0.013316</td>\n",
              "    </tr>\n",
              "    <tr>\n",
              "      <th>fare</th>\n",
              "      <td>-9410.735123</td>\n",
              "      <td>-24.227788</td>\n",
              "      <td>6.146023</td>\n",
              "      <td>114.416613</td>\n",
              "      <td>8.641768</td>\n",
              "      <td>9.928031</td>\n",
              "      <td>2678.959738</td>\n",
              "      <td>-179.164684</td>\n",
              "      <td>10.976961</td>\n",
              "    </tr>\n",
              "    <tr>\n",
              "      <th>body</th>\n",
              "      <td>591.579132</td>\n",
              "      <td>-2.876653</td>\n",
              "      <td>0.000000</td>\n",
              "      <td>81.622922</td>\n",
              "      <td>-8.708471</td>\n",
              "      <td>4.237190</td>\n",
              "      <td>-179.164684</td>\n",
              "      <td>9544.688567</td>\n",
              "      <td>3.625689</td>\n",
              "    </tr>\n",
              "    <tr>\n",
              "      <th>has_cabin_number</th>\n",
              "      <td>-95.438885</td>\n",
              "      <td>-0.249992</td>\n",
              "      <td>0.061406</td>\n",
              "      <td>1.463138</td>\n",
              "      <td>-0.003946</td>\n",
              "      <td>0.013316</td>\n",
              "      <td>10.976961</td>\n",
              "      <td>3.625689</td>\n",
              "      <td>0.174613</td>\n",
              "    </tr>\n",
              "  </tbody>\n",
              "</table>\n",
              "</div>"
            ],
            "text/plain": [
              "                     Unnamed: 0      pclass  ...         body  has_cabin_number\n",
              "Unnamed: 0        143117.500000  284.357034  ...   591.579132        -95.438885\n",
              "pclass               284.357034    0.701969  ...    -2.876653         -0.249992\n",
              "survived             -53.967125   -0.127248  ...     0.000000          0.061406\n",
              "age                -1442.939812   -3.954605  ...    81.622922          1.463138\n",
              "sibsp                 25.828746    0.053090  ...    -8.708471         -0.003946\n",
              "parch                  1.172783    0.013287  ...     4.237190          0.013316\n",
              "fare               -9410.735123  -24.227788  ...  -179.164684         10.976961\n",
              "body                 591.579132   -2.876653  ...  9544.688567          3.625689\n",
              "has_cabin_number     -95.438885   -0.249992  ...     3.625689          0.174613\n",
              "\n",
              "[9 rows x 9 columns]"
            ]
          },
          "metadata": {
            "tags": []
          },
          "execution_count": 119
        }
      ]
    },
    {
      "cell_type": "code",
      "metadata": {
        "id": "RqOhd3htWGGb",
        "colab_type": "code",
        "colab": {
          "base_uri": "https://localhost:8080/",
          "height": 318
        },
        "outputId": "aa0bc5d3-4987-4384-9c71-f57650965a8e"
      },
      "source": [
        "#Calcuting correlation coefficient matrix\n",
        "\n",
        "titanic.corr()"
      ],
      "execution_count": 120,
      "outputs": [
        {
          "output_type": "execute_result",
          "data": {
            "text/html": [
              "<div>\n",
              "<style scoped>\n",
              "    .dataframe tbody tr th:only-of-type {\n",
              "        vertical-align: middle;\n",
              "    }\n",
              "\n",
              "    .dataframe tbody tr th {\n",
              "        vertical-align: top;\n",
              "    }\n",
              "\n",
              "    .dataframe thead th {\n",
              "        text-align: right;\n",
              "    }\n",
              "</style>\n",
              "<table border=\"1\" class=\"dataframe\">\n",
              "  <thead>\n",
              "    <tr style=\"text-align: right;\">\n",
              "      <th></th>\n",
              "      <th>Unnamed: 0</th>\n",
              "      <th>pclass</th>\n",
              "      <th>survived</th>\n",
              "      <th>age</th>\n",
              "      <th>sibsp</th>\n",
              "      <th>parch</th>\n",
              "      <th>fare</th>\n",
              "      <th>body</th>\n",
              "      <th>has_cabin_number</th>\n",
              "    </tr>\n",
              "  </thead>\n",
              "  <tbody>\n",
              "    <tr>\n",
              "      <th>Unnamed: 0</th>\n",
              "      <td>1.000000</td>\n",
              "      <td>0.897822</td>\n",
              "      <td>-0.293717</td>\n",
              "      <td>-0.296172</td>\n",
              "      <td>0.065594</td>\n",
              "      <td>0.003584</td>\n",
              "      <td>-0.481215</td>\n",
              "      <td>0.015558</td>\n",
              "      <td>-0.603727</td>\n",
              "    </tr>\n",
              "    <tr>\n",
              "      <th>pclass</th>\n",
              "      <td>0.897822</td>\n",
              "      <td>1.000000</td>\n",
              "      <td>-0.312469</td>\n",
              "      <td>-0.366370</td>\n",
              "      <td>0.060832</td>\n",
              "      <td>0.018322</td>\n",
              "      <td>-0.558629</td>\n",
              "      <td>-0.034642</td>\n",
              "      <td>-0.713857</td>\n",
              "    </tr>\n",
              "    <tr>\n",
              "      <th>survived</th>\n",
              "      <td>-0.293717</td>\n",
              "      <td>-0.312469</td>\n",
              "      <td>1.000000</td>\n",
              "      <td>-0.050199</td>\n",
              "      <td>-0.027825</td>\n",
              "      <td>0.082660</td>\n",
              "      <td>0.244265</td>\n",
              "      <td>NaN</td>\n",
              "      <td>0.302250</td>\n",
              "    </tr>\n",
              "    <tr>\n",
              "      <th>age</th>\n",
              "      <td>-0.296172</td>\n",
              "      <td>-0.366370</td>\n",
              "      <td>-0.050199</td>\n",
              "      <td>1.000000</td>\n",
              "      <td>-0.190747</td>\n",
              "      <td>-0.130872</td>\n",
              "      <td>0.171892</td>\n",
              "      <td>0.059059</td>\n",
              "      <td>0.271887</td>\n",
              "    </tr>\n",
              "    <tr>\n",
              "      <th>sibsp</th>\n",
              "      <td>0.065594</td>\n",
              "      <td>0.060832</td>\n",
              "      <td>-0.027825</td>\n",
              "      <td>-0.190747</td>\n",
              "      <td>1.000000</td>\n",
              "      <td>0.373587</td>\n",
              "      <td>0.160238</td>\n",
              "      <td>-0.099961</td>\n",
              "      <td>-0.009064</td>\n",
              "    </tr>\n",
              "    <tr>\n",
              "      <th>parch</th>\n",
              "      <td>0.003584</td>\n",
              "      <td>0.018322</td>\n",
              "      <td>0.082660</td>\n",
              "      <td>-0.130872</td>\n",
              "      <td>0.373587</td>\n",
              "      <td>1.000000</td>\n",
              "      <td>0.221539</td>\n",
              "      <td>0.051099</td>\n",
              "      <td>0.036806</td>\n",
              "    </tr>\n",
              "    <tr>\n",
              "      <th>fare</th>\n",
              "      <td>-0.481215</td>\n",
              "      <td>-0.558629</td>\n",
              "      <td>0.244265</td>\n",
              "      <td>0.171892</td>\n",
              "      <td>0.160238</td>\n",
              "      <td>0.221539</td>\n",
              "      <td>1.000000</td>\n",
              "      <td>-0.043110</td>\n",
              "      <td>0.507253</td>\n",
              "    </tr>\n",
              "    <tr>\n",
              "      <th>body</th>\n",
              "      <td>0.015558</td>\n",
              "      <td>-0.034642</td>\n",
              "      <td>NaN</td>\n",
              "      <td>0.059059</td>\n",
              "      <td>-0.099961</td>\n",
              "      <td>0.051099</td>\n",
              "      <td>-0.043110</td>\n",
              "      <td>1.000000</td>\n",
              "      <td>0.083796</td>\n",
              "    </tr>\n",
              "    <tr>\n",
              "      <th>has_cabin_number</th>\n",
              "      <td>-0.603727</td>\n",
              "      <td>-0.713857</td>\n",
              "      <td>0.302250</td>\n",
              "      <td>0.271887</td>\n",
              "      <td>-0.009064</td>\n",
              "      <td>0.036806</td>\n",
              "      <td>0.507253</td>\n",
              "      <td>0.083796</td>\n",
              "      <td>1.000000</td>\n",
              "    </tr>\n",
              "  </tbody>\n",
              "</table>\n",
              "</div>"
            ],
            "text/plain": [
              "                  Unnamed: 0    pclass  ...      body  has_cabin_number\n",
              "Unnamed: 0          1.000000  0.897822  ...  0.015558         -0.603727\n",
              "pclass              0.897822  1.000000  ... -0.034642         -0.713857\n",
              "survived           -0.293717 -0.312469  ...       NaN          0.302250\n",
              "age                -0.296172 -0.366370  ...  0.059059          0.271887\n",
              "sibsp               0.065594  0.060832  ... -0.099961         -0.009064\n",
              "parch               0.003584  0.018322  ...  0.051099          0.036806\n",
              "fare               -0.481215 -0.558629  ... -0.043110          0.507253\n",
              "body                0.015558 -0.034642  ...  1.000000          0.083796\n",
              "has_cabin_number   -0.603727 -0.713857  ...  0.083796          1.000000\n",
              "\n",
              "[9 rows x 9 columns]"
            ]
          },
          "metadata": {
            "tags": []
          },
          "execution_count": 120
        }
      ]
    },
    {
      "cell_type": "code",
      "metadata": {
        "id": "uoYf7NS3WtUL",
        "colab_type": "code",
        "colab": {
          "base_uri": "https://localhost:8080/",
          "height": 275
        },
        "outputId": "bb59183f-7576-427d-d152-82f30e85bca5"
      },
      "source": [
        "#Using matplotlib to visualize correlation\n",
        "\n",
        "plt.matshow(titanic.corr());"
      ],
      "execution_count": 130,
      "outputs": [
        {
          "output_type": "display_data",
          "data": {
            "image/png": "[encoded data removed]",
            "text/plain": [
              "<Figure size 288x288 with 1 Axes>"
            ]
          },
          "metadata": {
            "tags": []
          }
        }
      ]
    },
    {
      "cell_type": "code",
      "metadata": {
        "id": "LNXIc1r2WlXX",
        "colab_type": "code",
        "colab": {
          "base_uri": "https://localhost:8080/",
          "height": 353
        },
        "outputId": "6043274d-9308-4f3b-cc8c-231b81e23362"
      },
      "source": [
        "#Using seaborn to visualize correlation\n",
        "\n",
        "import seaborn as sns\n",
        "\n",
        "sns.heatmap(titanic.corr());\n"
      ],
      "execution_count": 131,
      "outputs": [
        {
          "output_type": "display_data",
          "data": {
            "image/png": "[encoded data removed]",
            "text/plain": [
              "<Figure size 432x288 with 2 Axes>"
            ]
          },
          "metadata": {
            "tags": []
          }
        }
      ]
    },
    {
      "cell_type": "markdown",
      "metadata": {
        "id": "7K0Xfh8MvYkl",
        "colab_type": "text"
      },
      "source": [
        "# Orthogonality"
      ]
    },
    {
      "cell_type": "markdown",
      "metadata": {
        "id": "Pe3eOZ2fvdZ-",
        "colab_type": "text"
      },
      "source": [
        "## 2.1 Plot two vectors that are orthogonal to each other. What is a synonym for orthogonal?"
      ]
    },
    {
      "cell_type": "code",
      "metadata": {
        "id": "YLSBk7hJvvCx",
        "colab_type": "code",
        "colab": {
          "base_uri": "https://localhost:8080/",
          "height": 281
        },
        "outputId": "f788fe57-736c-44b3-fb70-13408190c10a"
      },
      "source": [
        "fig, ax = plt.subplots()\n",
        "ax.grid()\n",
        "plt.subplots_adjust(wspace=20, hspace=1)\n",
        "\n",
        "v = [2, -5]\n",
        "w = [10, 4]\n",
        "\n",
        "plt.arrow(0, 0, 2, -5,  head_width=.2, head_length=0.5, color = 'g')\n",
        "plt.arrow(0, 0, 10, 4,  head_width=.2, head_length=0.5, color = 'b')\n",
        "\n",
        "\n",
        "ax.set_xlim([-10, 15])\n",
        "ax.set_ylim([-10, 15])\n",
        "plt.title('vector v and w')\n",
        "plt.show()"
      ],
      "execution_count": 203,
      "outputs": [
        {
          "output_type": "display_data",
          "data": {
            "image/png": "[encoded data removed]",
            "text/plain": [
              "<Figure size 432x288 with 1 Axes>"
            ]
          },
          "metadata": {
            "tags": []
          }
        }
      ]
    },
    {
      "cell_type": "code",
      "metadata": {
        "id": "c_dero_PaLZm",
        "colab_type": "code",
        "colab": {
          "base_uri": "https://localhost:8080/",
          "height": 35
        },
        "outputId": "237b227d-40fe-4de5-8705-006dd338b391"
      },
      "source": [
        "np.dot(v,w)"
      ],
      "execution_count": 163,
      "outputs": [
        {
          "output_type": "execute_result",
          "data": {
            "text/plain": [
              "0"
            ]
          },
          "metadata": {
            "tags": []
          },
          "execution_count": 163
        }
      ]
    },
    {
      "cell_type": "code",
      "metadata": {
        "id": "LaYK4ppEYZze",
        "colab_type": "code",
        "colab": {
          "base_uri": "https://localhost:8080/",
          "height": 35
        },
        "outputId": "5a11a2dd-1c96-405e-b034-a6c3fb7906b4"
      },
      "source": [
        "np.matmul(v,w)"
      ],
      "execution_count": 141,
      "outputs": [
        {
          "output_type": "execute_result",
          "data": {
            "text/plain": [
              "0"
            ]
          },
          "metadata": {
            "tags": []
          },
          "execution_count": 141
        }
      ]
    },
    {
      "cell_type": "markdown",
      "metadata": {
        "id": "7AS4V1Nhvvxz",
        "colab_type": "text"
      },
      "source": [
        "## 2.2 Are the following vectors orthogonal? Why or why not?\n",
        "\n",
        "\\begin{align}\n",
        "a = \\begin{bmatrix} -5 \\\\ 3 \\\\ 7 \\end{bmatrix}\n",
        "\\qquad\n",
        "b = \\begin{bmatrix} 6 \\\\ -8 \\\\ 2 \\end{bmatrix}\n",
        "\\end{align}"
      ]
    },
    {
      "cell_type": "code",
      "metadata": {
        "id": "F_-y54YSz47k",
        "colab_type": "code",
        "colab": {
          "base_uri": "https://localhost:8080/",
          "height": 90
        },
        "outputId": "1e93353d-a483-448a-fb7c-6a18515c8ef0"
      },
      "source": [
        "#Creating the arrays\n",
        "\n",
        "aa=np.array([-5,3,7])\n",
        "bb=np.array([6,-8,2])\n",
        "print('aa','\\n' , aa, '\\n','bb','\\n', bb)"
      ],
      "execution_count": 161,
      "outputs": [
        {
          "output_type": "stream",
          "text": [
            "aa \n",
            " [-5  3  7] \n",
            " bb \n",
            " [ 6 -8  2]\n"
          ],
          "name": "stdout"
        }
      ]
    },
    {
      "cell_type": "code",
      "metadata": {
        "id": "x5RS_WFkZEaM",
        "colab_type": "code",
        "colab": {
          "base_uri": "https://localhost:8080/",
          "height": 35
        },
        "outputId": "4063865e-ce1d-4df9-aa20-dd7dfca81646"
      },
      "source": [
        "#Checking for orthogonality\n",
        "#1e-10 is an arbitrary small number close to 0\n",
        "\n",
        "def ortho(a,b):\n",
        "  ortho =np.dot(a,b)\n",
        "  if ortho<1e-10:\n",
        "    print(ortho, ':The vectors are orthogonal')\n",
        "  else:\n",
        "    print(ortho, ':The vectors are not orthogonal')\n",
        "\n",
        "ortho(aa,bb)"
      ],
      "execution_count": 199,
      "outputs": [
        {
          "output_type": "stream",
          "text": [
            "-40 :The vectors are orthogonal\n"
          ],
          "name": "stdout"
        }
      ]
    },
    {
      "cell_type": "code",
      "metadata": {
        "id": "dVDe1jyjb9ex",
        "colab_type": "code",
        "colab": {
          "base_uri": "https://localhost:8080/",
          "height": 54
        },
        "outputId": "641fdc5b-775a-4c4e-e72a-d97a3fe94c44"
      },
      "source": [
        "#Creating a vector orthogonal to a given vector\n",
        "given=np.random.randn(3)\n",
        "ort_vect=np.random.randn(3)\n",
        "\n",
        "ort_vect -=ort_vect.dot(given)*given/np.linalg.norm(given)**2\n",
        "print(given)\n",
        "print(ort_vect)"
      ],
      "execution_count": 200,
      "outputs": [
        {
          "output_type": "stream",
          "text": [
            "[ 1.19576257  1.18649681 -1.60294426]\n",
            "[ 0.13944744 -0.81653526 -0.50037326]\n"
          ],
          "name": "stdout"
        }
      ]
    },
    {
      "cell_type": "code",
      "metadata": {
        "id": "z-3uPjC2dBaD",
        "colab_type": "code",
        "colab": {
          "base_uri": "https://localhost:8080/",
          "height": 35
        },
        "outputId": "9f5145cb-a316-4f79-c23c-a17298fd0535"
      },
      "source": [
        "#Checking for orthogonality\n",
        "\n",
        "ortho(given,ort_vect)"
      ],
      "execution_count": 201,
      "outputs": [
        {
          "output_type": "stream",
          "text": [
            "7.771561172376096e-16 :The vectors are orthogonal\n"
          ],
          "name": "stdout"
        }
      ]
    },
    {
      "cell_type": "markdown",
      "metadata": {
        "id": "MiNjyqiEz5SG",
        "colab_type": "text"
      },
      "source": [
        "## 2.3 Compute the following values: What do these quantities have in common?\n",
        "\n",
        "## What is $||c||^2$? \n",
        "\n",
        "## What is $c \\cdot c$? \n",
        "\n",
        "## What is $c^{T}c$?\n",
        "\n",
        "\\begin{align}\n",
        "c = \\begin{bmatrix} 2 & -15 & 6 & 20 \\end{bmatrix}\n",
        "\\end{align}"
      ]
    },
    {
      "cell_type": "code",
      "metadata": {
        "id": "IlV_uaYK1EQB",
        "colab_type": "code",
        "colab": {
          "base_uri": "https://localhost:8080/",
          "height": 90
        },
        "outputId": "f8324089-2848-458b-ee9c-40dc4565d1f6"
      },
      "source": [
        "# Vector norm\n",
        "\n",
        "c= np.array([2, -15, 6, 20])\n",
        "\n",
        "c_norm= (sum([a**2 for a in c]))**.5         # computtaion by hand\n",
        "cnorm=np.linalg.norm(c)                      # computation using library\n",
        "\n",
        "c_unit= c/c_norm                             # computing unit vector\n",
        "c_unit_norm= np.linalg.norm(c_unit)          # computing length of unit vector\n",
        "\n",
        "print('c_norm:' , c_norm)\n",
        "print('cnorm:' , cnorm)\n",
        "print('unit vector:', c_unit)\n",
        "print('unit vector norm:', c_unit_norm)\n"
      ],
      "execution_count": 221,
      "outputs": [
        {
          "output_type": "stream",
          "text": [
            "c_norm: 25.787593916455254\n",
            "cnorm: 25.787593916455254\n",
            "unit vector: [ 0.07755667 -0.58167505  0.23267002  0.77556673]\n",
            "unit vector norm: 1.0\n"
          ],
          "name": "stdout"
        }
      ]
    },
    {
      "cell_type": "markdown",
      "metadata": {
        "id": "0YAKB5XLju9L",
        "colab_type": "text"
      },
      "source": [
        "## What is $||c||^2$? "
      ]
    },
    {
      "cell_type": "code",
      "metadata": {
        "id": "HrLALS-mjy7G",
        "colab_type": "code",
        "colab": {
          "base_uri": "https://localhost:8080/",
          "height": 35
        },
        "outputId": "e769a527-1af3-4a59-d66c-2331a6418d44"
      },
      "source": [
        "c_norm_square= c_norm**2\n",
        "c_norm_square\n"
      ],
      "execution_count": 223,
      "outputs": [
        {
          "output_type": "execute_result",
          "data": {
            "text/plain": [
              "665.0"
            ]
          },
          "metadata": {
            "tags": []
          },
          "execution_count": 223
        }
      ]
    },
    {
      "cell_type": "markdown",
      "metadata": {
        "id": "ZXpz9d58kCl6",
        "colab_type": "text"
      },
      "source": [
        "## What is $c \\cdot c$? "
      ]
    },
    {
      "cell_type": "code",
      "metadata": {
        "id": "XBSrch-pkDfz",
        "colab_type": "code",
        "colab": {
          "base_uri": "https://localhost:8080/",
          "height": 35
        },
        "outputId": "376e0395-d6ce-48b7-a565-76f6ac4c8b83"
      },
      "source": [
        "cdotc=np.dot(c,c)\n",
        "cdotc"
      ],
      "execution_count": 225,
      "outputs": [
        {
          "output_type": "execute_result",
          "data": {
            "text/plain": [
              "665"
            ]
          },
          "metadata": {
            "tags": []
          },
          "execution_count": 225
        }
      ]
    },
    {
      "cell_type": "markdown",
      "metadata": {
        "id": "jqKit2k7kQWh",
        "colab_type": "text"
      },
      "source": [
        "## What is $c^{T}c$?"
      ]
    },
    {
      "cell_type": "code",
      "metadata": {
        "id": "IHB-Z2SdkRr1",
        "colab_type": "code",
        "colab": {
          "base_uri": "https://localhost:8080/",
          "height": 35
        },
        "outputId": "102017a2-59f6-44be-a8f0-7669a74945c9"
      },
      "source": [
        "c_transpose=c.T\n",
        "np.dot(c_transpose,c)"
      ],
      "execution_count": 227,
      "outputs": [
        {
          "output_type": "execute_result",
          "data": {
            "text/plain": [
              "665"
            ]
          },
          "metadata": {
            "tags": []
          },
          "execution_count": 227
        }
      ]
    },
    {
      "cell_type": "markdown",
      "metadata": {
        "id": "MK_TpWqk1Evk",
        "colab_type": "text"
      },
      "source": [
        "# Unit Vectors"
      ]
    },
    {
      "cell_type": "markdown",
      "metadata": {
        "id": "Kpit6WWO1b8l",
        "colab_type": "text"
      },
      "source": [
        "## 3.1 Using Latex, write the following vectors as a linear combination of scalars and unit vectors:\n",
        "\n",
        "\\begin{align}\n",
        "d = \\begin{bmatrix} 7 \\\\ 12 \\end{bmatrix}\n",
        "\\qquad\n",
        "e = \\begin{bmatrix} 2 \\\\ 11 \\\\ -8  \\end{bmatrix}\n",
        "\\end{align}"
      ]
    },
    {
      "cell_type": "markdown",
      "metadata": {
        "id": "oBCj1sDW2ouC",
        "colab_type": "text"
      },
      "source": [
        "$\\begin{align}\n",
        "d = \\begin{bmatrix} 7 \\\\ 12 \\end{bmatrix}\n",
        "\\qquad\n",
        "d = 7\\begin{bmatrix} 1 \\\\ 0 \\end{bmatrix}+ 12\\begin{bmatrix} 0 \\\\ 1\\end{bmatrix}= 7\\hat{i} + 12\\hat{j}\n",
        "\\end{align}$\n",
        "\n"
      ]
    },
    {
      "cell_type": "markdown",
      "metadata": {
        "id": "bBeguahqn6D7",
        "colab_type": "text"
      },
      "source": [
        "$\\begin{align}\n",
        "e = \\begin{bmatrix} 2 \\\\ 11 \\\\ -8  \\end{bmatrix}\n",
        "\\qquad\n",
        "e = 2\\begin{bmatrix} 1 \\\\ 0 \\\\ 0 \\end{bmatrix} + 11\\begin{bmatrix} 0 \\\\ 1 \\\\ 00\\end{bmatrix} - 8\\begin{bmatrix} 0 \\\\ 0 \\\\ 1 \\end{bmatrix} = 2\\hat{i} + 11\\hat{j}- 8\\hat{k}\n",
        "\\end{align}$"
      ]
    },
    {
      "cell_type": "markdown",
      "metadata": {
        "id": "dAdUQuep1_yJ",
        "colab_type": "text"
      },
      "source": [
        "## 3.2 Turn vector $f$ into a unit vector:\n",
        "\n",
        "\\begin{align}\n",
        "f = \\begin{bmatrix} 4 & 12 & 11 & 9 & 2 \\end{bmatrix}\n",
        "\\end{align}"
      ]
    },
    {
      "cell_type": "code",
      "metadata": {
        "id": "I3W8ZiHR1_Fa",
        "colab_type": "code",
        "colab": {
          "base_uri": "https://localhost:8080/",
          "height": 90
        },
        "outputId": "5ba463b4-015a-4ec2-e080-9018598382d3"
      },
      "source": [
        "# Vector norm\n",
        "\n",
        "f= np.array([4, 12, 11, 9, 2])\n",
        "\n",
        "f_norm= (sum([a**2 for a in f]))**.5         # computtaion by hand\n",
        "fnorm=np.linalg.norm(f)                      # computation using library\n",
        "\n",
        "f_unit= f/f_norm                             # computing unit vector\n",
        "f_unit_norm= np.linalg.norm(f_unit)          # computing length of unit vector\n",
        "\n",
        "print('f_norm:' , f_norm)\n",
        "print('fnorm:' , fnorm)\n",
        "print('unit vector:', f_unit)\n",
        "print('unit vector norm:', f_unit_norm)"
      ],
      "execution_count": 229,
      "outputs": [
        {
          "output_type": "stream",
          "text": [
            "f_norm: 19.131126469708992\n",
            "fnorm: 19.131126469708992\n",
            "unit vector: [0.20908335 0.62725005 0.57497921 0.47043754 0.10454167]\n",
            "unit vector norm: 0.9999999999999999\n"
          ],
          "name": "stdout"
        }
      ]
    },
    {
      "cell_type": "markdown",
      "metadata": {
        "id": "o39UyP-I5lpP",
        "colab_type": "text"
      },
      "source": [
        "# Linear Independence / Dependence "
      ]
    },
    {
      "cell_type": "markdown",
      "metadata": {
        "id": "ajfBqYe45sT5",
        "colab_type": "text"
      },
      "source": [
        "## 4.1 Plot two vectors that are linearly dependent and two vectors that are linearly independent (bonus points if done in $\\mathbb{R}^3$)."
      ]
    },
    {
      "cell_type": "code",
      "metadata": {
        "id": "fblHY1LRm1t2",
        "colab_type": "code",
        "colab": {
          "base_uri": "https://localhost:8080/",
          "height": 248
        },
        "outputId": "fb517b6f-512a-451b-962e-ff7fde5607fd"
      },
      "source": [
        "# Plotting Linearly Dependent Vectors on a 3d graph.\n",
        "from mpl_toolkits.mplot3d import Axes3D\n",
        "\n",
        "#t = [[-4], [-1], [-5]]\n",
        "red=np.multiply(-2,blue)\n",
        "\n",
        "blue = np.array([[0, 0, 0, -4, -1, -3]])\n",
        "red = np.array(vect2)\n",
        "yellow= np.array(blue.__mul__(3))\n",
        "\n",
        "colors = ['b','r','y'] \n",
        "\n",
        "X, Y, Z, U, V, W = zip(*yellow, *red, *blue)\n",
        "\n",
        "fig = plt.figure()\n",
        "ax = fig.add_subplot(111, projection='3d')\n",
        "ax.quiver(X, Y, Z, U, V, W, color=colors, length=1)\n",
        "ax.set_xlim([-10, 10])\n",
        "ax.set_ylim([-10, 10])\n",
        "ax.set_zlim([-10, 10])\n",
        "ax.set_xlabel('X')\n",
        "ax.set_ylabel('Y')\n",
        "ax.set_zlabel('Z')\n",
        "plt.show()"
      ],
      "execution_count": 286,
      "outputs": [
        {
          "output_type": "display_data",
          "data": {
            "image/png": "[encoded data removed]",
            "text/plain": [
              "<Figure size 432x288 with 1 Axes>"
            ]
          },
          "metadata": {
            "tags": []
          }
        }
      ]
    },
    {
      "cell_type": "code",
      "metadata": {
        "id": "sfwUwQoyu3Kz",
        "colab_type": "code",
        "colab": {
          "base_uri": "https://localhost:8080/",
          "height": 248
        },
        "outputId": "d3754116-ade0-456e-a598-889b4007d285"
      },
      "source": [
        "# Plotting Linearly Independent Vectors on a 3d graph.\n",
        "\n",
        "cyan = np.array([[0, 0, 0, 4, 5, 3]])\n",
        "magenta = np.array([[0, 0, 0, -2, -4, 7]])\n",
        "green= np.array(vector4.__sub__(3))\n",
        "\n",
        "colors2 = ['c','m','g'] \n",
        "\n",
        "X, Y, Z, U, V, W = zip(*cyan, *magenta, *green)\n",
        "\n",
        "fig = plt.figure()\n",
        "ax = fig.add_subplot(111, projection='3d')\n",
        "ax.quiver(X, Y, Z, U, V, W,color=colors2, length=1)\n",
        "ax.set_xlim([-6, 8])\n",
        "ax.set_ylim([-6, 8])\n",
        "ax.set_zlim([-6, 8])\n",
        "ax.set_xlabel('X')\n",
        "ax.set_ylabel('Y')\n",
        "ax.set_zlabel('Z')\n",
        "plt.show()"
      ],
      "execution_count": 288,
      "outputs": [
        {
          "output_type": "display_data",
          "data": {
            "image/png": "[encoded data removed]",
            "text/plain": [
              "<Figure size 432x288 with 1 Axes>"
            ]
          },
          "metadata": {
            "tags": []
          }
        }
      ]
    },
    {
      "cell_type": "markdown",
      "metadata": {
        "id": "TrJ0MT_n3SvO",
        "colab_type": "text"
      },
      "source": [
        "# Span"
      ]
    },
    {
      "cell_type": "markdown",
      "metadata": {
        "id": "86iXLzwM2z8l",
        "colab_type": "text"
      },
      "source": [
        "## 5.1 What is the span of the following vectors?\n",
        "\n",
        "\\begin{align}\n",
        "g = \\begin{bmatrix} 1 & 2 \\end{bmatrix}\n",
        "\\qquad\n",
        "h = \\begin{bmatrix} 4 & 8 \\end{bmatrix}\n",
        "\\end{align}"
      ]
    },
    {
      "cell_type": "code",
      "metadata": {
        "id": "G2LK2RWL39Q4",
        "colab_type": "code",
        "colab": {}
      },
      "source": [
        "#Creating arrays\n",
        "\n",
        "g=np.array([1,2])\n",
        "h=np.array([4,8])"
      ],
      "execution_count": 0,
      "outputs": []
    },
    {
      "cell_type": "code",
      "metadata": {
        "id": "I8hicDin3ZMA",
        "colab_type": "code",
        "colab": {
          "base_uri": "https://localhost:8080/",
          "height": 269
        },
        "outputId": "07297188-c715-4b4f-9e2a-7a9c1483ef44"
      },
      "source": [
        "#Plotting them on a grid\n",
        "\n",
        "fig, ax= plt.subplots(figsize=(4,4))\n",
        "ax.grid()\n",
        "plt.xlim(-5,10)\n",
        "plt.ylim(-5,10)\n",
        "\n",
        "for myvect in [g, h]:\n",
        "  plt.arrow(0,0,\n",
        "            myvect[0],\n",
        "            myvect[1],\n",
        "            head_width=0.3,\n",
        "            head_length= 0.2,\n",
        "            linewidth= 5,\n",
        "            color='g')"
      ],
      "execution_count": 300,
      "outputs": [
        {
          "output_type": "display_data",
          "data": {
            "image/png": "[encoded data removed]",
            "text/plain": [
              "<Figure size 288x288 with 1 Axes>"
            ]
          },
          "metadata": {
            "tags": []
          }
        }
      ]
    },
    {
      "cell_type": "code",
      "metadata": {
        "id": "hTebMatuDyIr",
        "colab_type": "code",
        "colab": {
          "base_uri": "https://localhost:8080/",
          "height": 35
        },
        "outputId": "7a6382a8-dcf7-426a-edbb-0f7e0637a0de"
      },
      "source": [
        "# one possible combination\n",
        "k,m=(4,5)\n",
        "combo1=np.multiply(g,k)+np.multiply(h,m)\n",
        "print('one combinatin' ,combo1)\n",
        "\n"
      ],
      "execution_count": 290,
      "outputs": [
        {
          "output_type": "stream",
          "text": [
            "one combinatin [24 48]\n"
          ],
          "name": "stdout"
        }
      ]
    },
    {
      "cell_type": "code",
      "metadata": {
        "id": "86yy-TwKEasl",
        "colab_type": "code",
        "colab": {
          "base_uri": "https://localhost:8080/",
          "height": 269
        },
        "outputId": "10707ab4-a337-4475-8d83-2a7ea3821bae"
      },
      "source": [
        "#Plotting the combinations on a grid\n",
        "\n",
        "fig, ax= plt.subplots(figsize=(4,4))\n",
        "ax.grid()\n",
        "plt.xlim(-5,30)\n",
        "plt.ylim(-5,50)\n",
        "\n",
        "\n",
        "\n",
        "for myvect in [g, h,combo1]:\n",
        "  plt.arrow(0,0,\n",
        "            myvect[0],\n",
        "            myvect[1],\n",
        "            head_width=0.3,\n",
        "            head_length= 0.2,\n",
        "            linewidth= 5,\n",
        "            color='green')"
      ],
      "execution_count": 293,
      "outputs": [
        {
          "output_type": "display_data",
          "data": {
            "image/png": "[encoded data removed]",
            "text/plain": [
              "<Figure size 288x288 with 1 Axes>"
            ]
          },
          "metadata": {
            "tags": []
          }
        }
      ]
    },
    {
      "cell_type": "markdown",
      "metadata": {
        "id": "n0KgkUQbFw1G",
        "colab_type": "text"
      },
      "source": [
        "These vectors are linearly dependent so their span is that dimension where they are all located."
      ]
    },
    {
      "cell_type": "markdown",
      "metadata": {
        "id": "l1deylUj4IHH",
        "colab_type": "text"
      },
      "source": [
        "## 5.2 What is the span of $\\{l, m, n\\}$?\n",
        "\n",
        "\\begin{align}\n",
        "l = \\begin{bmatrix} 1 & 2 & 3 \\end{bmatrix}\n",
        "\\qquad\n",
        "m = \\begin{bmatrix} -1 & 0 & 7 \\end{bmatrix}\n",
        "\\qquad\n",
        "n = \\begin{bmatrix} 4 & 8  & 2\\end{bmatrix}\n",
        "\\end{align}"
      ]
    },
    {
      "cell_type": "code",
      "metadata": {
        "id": "p1i_ueD25ZcP",
        "colab_type": "code",
        "colab": {}
      },
      "source": [
        "#Creating arrays\n",
        "\n",
        "l=np.array([1,2,3])\n",
        "m=np.array([-1, 0, 7])\n",
        "n=np.array([4,8, 2])"
      ],
      "execution_count": 0,
      "outputs": []
    },
    {
      "cell_type": "code",
      "metadata": {
        "id": "9x_NadsSGP_X",
        "colab_type": "code",
        "colab": {
          "base_uri": "https://localhost:8080/",
          "height": 35
        },
        "outputId": "27e95ec8-7478-441d-e5d9-be4ffc6408de"
      },
      "source": [
        "# one possible combination\n",
        "p,q,r=(2,3,4)\n",
        "combo2=np.multiply(l,p)+np.multiply(m,q) + np.multiply(n,r)\n",
        "\n",
        "print('one combination' ,combo2)"
      ],
      "execution_count": 302,
      "outputs": [
        {
          "output_type": "stream",
          "text": [
            "one combinatin [15 36 35]\n"
          ],
          "name": "stdout"
        }
      ]
    },
    {
      "cell_type": "code",
      "metadata": {
        "id": "0_4vbyW7HDVK",
        "colab_type": "code",
        "colab": {
          "base_uri": "https://localhost:8080/",
          "height": 35
        },
        "outputId": "71072abd-0f3d-4ed8-c593-28a772fc7dd6"
      },
      "source": [
        "# A for loop for given list of multipliers\n",
        "\n",
        "all_combos=[]\n",
        "for (p,q,r) in [(1,2,3), (-3,2,4), (-2,-3,-4), (2,-5,-6)]:\n",
        "  linear_combo= np.multiply(l,p)+np.multiply(m,q) + np.multiply(n,r)\n",
        "  all_combos.append(linear_combo)\n",
        "print(all_combos)"
      ],
      "execution_count": 323,
      "outputs": [
        {
          "output_type": "stream",
          "text": [
            "[array([[ 0,  0,  0, 11, 26, 23]]), array([[ 0,  0,  0, 11, 26, 13]]), array([[  0,   0,   0, -15, -36, -35]]), array([[  0,   0,   0, -17, -44, -41]])]\n"
          ],
          "name": "stdout"
        }
      ]
    },
    {
      "cell_type": "code",
      "metadata": {
        "id": "vmb-dB0cH02Z",
        "colab_type": "code",
        "colab": {
          "base_uri": "https://localhost:8080/",
          "height": 248
        },
        "outputId": "640f9672-bd1f-45c1-8ff6-0423117bcf52"
      },
      "source": [
        "#Plotting the original vectors and the resulting combinations is one space\n",
        "\n",
        "cyan = np.array([[0, 0, 0, 4, 5, 3]])\n",
        "magenta = np.array([[0, 0, 0, -2, -4, 7]])\n",
        "green= np.array(vector4.__sub__(3))\n",
        "\n",
        "l=np.array([[0,0,0,1,2,3]])\n",
        "m=np.array([[0,0,0,-1, 0, 7]])\n",
        "n=np.array([[0,0,0,4,8, 2]])\n",
        "comb1=np.array([[0,0,0,11, 26, 23]])\n",
        "comb2=np.array([[0,0,0,11, 26, 13]])\n",
        "comb3=np.array([[0,0,0,-15, -36, -35]])\n",
        "comb4=np.array([[0,0,0,-17, -44, -41]])\n",
        "\n",
        "colors2 = ['c','m','g', 'y', 'k', 'r', 'b'] \n",
        "\n",
        "X, Y, Z, U, V, W = zip(*l, *m, *n, *comb1, *comb2, *comb3, *comb4)\n",
        "\n",
        "fig = plt.figure()\n",
        "ax = fig.add_subplot(111, projection='3d')\n",
        "ax.quiver(X, Y, Z, U, V, W,color=colors2, length=1)\n",
        "ax.set_xlim([-30, 30])\n",
        "ax.set_ylim([-40, 30])\n",
        "ax.set_zlim([-50, 30])\n",
        "ax.set_xlabel('X')\n",
        "ax.set_ylabel('Y')\n",
        "ax.set_zlabel('Z')\n",
        "plt.show()\n",
        "\n"
      ],
      "execution_count": 324,
      "outputs": [
        {
          "output_type": "display_data",
          "data": {
            "image/png": "[encoded data removed]",
            "text/plain": [
              "<Figure size 432x288 with 1 Axes>"
            ]
          },
          "metadata": {
            "tags": []
          }
        }
      ]
    },
    {
      "cell_type": "markdown",
      "metadata": {
        "id": "OYk8fa2mLDZe",
        "colab_type": "text"
      },
      "source": [
        "Since none of th3 3 vectors are colinear, then the span is the infinite 3d space."
      ]
    },
    {
      "cell_type": "markdown",
      "metadata": {
        "id": "IBqe7X1732kX",
        "colab_type": "text"
      },
      "source": [
        "# Basis"
      ]
    },
    {
      "cell_type": "markdown",
      "metadata": {
        "id": "YeUZVHRM6PpT",
        "colab_type": "text"
      },
      "source": [
        "## 6.1 Graph two vectors that form a basis for $\\mathbb{R}^2$\n",
        "\n"
      ]
    },
    {
      "cell_type": "code",
      "metadata": {
        "id": "utvF3Pkt8NP6",
        "colab_type": "code",
        "colab": {
          "base_uri": "https://localhost:8080/",
          "height": 281
        },
        "outputId": "e989adb1-0857-43aa-98af-201a0bd08a04"
      },
      "source": [
        "# find basis vectors in 2-d\n",
        "\n",
        "blue = np.array([-3, 3])\n",
        "green = np.array([3, 3])\n",
        "\n",
        "bluenorm=np.linalg.norm(blue)                      # computing norm of blue vector\n",
        "greennorm=np.linalg.norm(green)                    # computing norm of green vector\n",
        "\n",
        "blue_unit= blue/blue_norm                          # computing unit vector of blue vector\n",
        "green_unit= green/green_norm                       # computing unit vector of green vector\n",
        "\n",
        "# Plot the original and Scaled Vectors\n",
        "plt.arrow(0,0, blue[0], blue[1],head_width=.2, head_length=0.2, color ='blue')\n",
        "plt.arrow(0,0, green[0], green[1],head_width=.2, head_length=0.2, color ='green')\n",
        "plt.arrow(0,0, blue_unit[0], blue_unit[1],head_width=.2, head_length=0.2,linewidth= 5, color ='blue')\n",
        "plt.arrow(0,0, green_unit[0], green_unit[1],head_width=.2, head_length=0.2,linewidth=5, color ='green')\n",
        "\n",
        "plt.grid()\n",
        "plt.xlim(-5,5)          \n",
        "plt.ylim(-5,5)\n",
        "\n",
        "plt.title(\"Basis for R^2\")\n",
        "plt.show()"
      ],
      "execution_count": 340,
      "outputs": [
        {
          "output_type": "display_data",
          "data": {
            "image/png": "[encoded data removed]",
            "text/plain": [
              "<Figure size 432x288 with 1 Axes>"
            ]
          },
          "metadata": {
            "tags": []
          }
        }
      ]
    },
    {
      "cell_type": "markdown",
      "metadata": {
        "id": "20yPFBDUxxnS",
        "colab_type": "text"
      },
      "source": [
        "## 6.2 What does it mean to form a basis?"
      ]
    },
    {
      "cell_type": "markdown",
      "metadata": {
        "id": "3w4tEayT8M0o",
        "colab_type": "text"
      },
      "source": [
        ""
      ]
    },
    {
      "cell_type": "markdown",
      "metadata": {
        "id": "EHmUxbcY6vD3",
        "colab_type": "text"
      },
      "source": [
        "# Rank"
      ]
    },
    {
      "cell_type": "markdown",
      "metadata": {
        "id": "IpJwt9kw6v8U",
        "colab_type": "text"
      },
      "source": [
        "## 7.1 What is the Rank of P?\n",
        "\n",
        "\\begin{align}\n",
        "P = \\begin{bmatrix} \n",
        "1 & 2 & 3 \\\\\n",
        " -1 & 0 & 7 \\\\\n",
        "4 & 8  & 2\n",
        "\\end{bmatrix}\n",
        "\\end{align}"
      ]
    },
    {
      "cell_type": "code",
      "metadata": {
        "id": "neeoAE3V71JL",
        "colab_type": "code",
        "colab": {
          "base_uri": "https://localhost:8080/",
          "height": 35
        },
        "outputId": "c549ff42-aa9b-4732-ba8d-374a0ba3392e"
      },
      "source": [
        "g=vector.copy()\n",
        "g"
      ],
      "execution_count": 257,
      "outputs": [
        {
          "output_type": "execute_result",
          "data": {
            "text/plain": [
              "array([[ 0,  0,  0, -4, -1, -3]])"
            ]
          },
          "metadata": {
            "tags": []
          },
          "execution_count": 257
        }
      ]
    },
    {
      "cell_type": "markdown",
      "metadata": {
        "id": "jGqFMBYY7mHD",
        "colab_type": "text"
      },
      "source": [
        "## 7.2 What does the rank of a matrix tell us?"
      ]
    },
    {
      "cell_type": "markdown",
      "metadata": {
        "id": "Vjg1IiCD8nnP",
        "colab_type": "text"
      },
      "source": [
        ""
      ]
    },
    {
      "cell_type": "markdown",
      "metadata": {
        "id": "0Db2sc_V8QD6",
        "colab_type": "text"
      },
      "source": [
        "# Linear Projections\n",
        "\n",
        "## 8.1 Line $L$ is formed by all of the vectors that can be created by scaling vector $v$ \n",
        "\\begin{align}\n",
        "v = \\begin{bmatrix} 1 & 3 \\end{bmatrix}\n",
        "\\end{align}\n",
        "\n",
        "\\begin{align}\n",
        "w = \\begin{bmatrix} -1 & 2 \\end{bmatrix}\n",
        "\\end{align}\n",
        "\n",
        "## find $proj_{L}(w)$\n",
        "\n",
        "## graph your projected vector to check your work (make sure your axis are square/even)"
      ]
    },
    {
      "cell_type": "code",
      "metadata": {
        "id": "hp5z2WTBCNKx",
        "colab_type": "code",
        "colab": {}
      },
      "source": [
        ""
      ],
      "execution_count": 0,
      "outputs": []
    },
    {
      "cell_type": "markdown",
      "metadata": {
        "id": "TKkrPwRM-Oar",
        "colab_type": "text"
      },
      "source": [
        "# Stretch Goal\n",
        "\n",
        "## For vectors that begin at the origin, the coordinates of where the vector ends can be interpreted as regular data points. (See 3Blue1Brown videos about Spans, Basis, etc.)\n",
        "\n",
        "## Write a function that can calculate the linear projection of each point (x,y) (vector) onto the line y=x. run the function and plot the original points in blue and the new projected points on the line y=x in red. \n",
        "\n",
        "## For extra points plot the orthogonal vectors as a dashed line from the original blue points to the projected red points."
      ]
    },
    {
      "cell_type": "code",
      "metadata": {
        "id": "cp52kZra-ykj",
        "colab_type": "code",
        "outputId": "12502200-eafe-4e20-bfb7-2d539c6027cb",
        "colab": {
          "base_uri": "https://localhost:8080/",
          "height": 347
        }
      },
      "source": [
        "import pandas as pd\n",
        "import matplotlib.pyplot as plt\n",
        "\n",
        "# Creating a dataframe for you to work with -Feel free to not use the dataframe if you don't want to.\n",
        "x_values = [1, 4, 7, 3, 9, 4, 5 ]\n",
        "y_values = [4, 2, 5, 0, 8, 2, 8]\n",
        "\n",
        "data = {\"x\": x_values, \"y\": y_values}\n",
        "\n",
        "df = pd.DataFrame(data)\n",
        "\n",
        "df.head()\n",
        "\n",
        "plt.scatter(df.x, df.y)\n",
        "plt.show()"
      ],
      "execution_count": 0,
      "outputs": [
        {
          "output_type": "display_data",
          "data": {
            "image/png": "[encoded data removed]",
            "text/plain": [
              "<matplotlib.figure.Figure at 0x7f787cfb2978>"
            ]
          },
          "metadata": {
            "tags": []
          }
        }
      ]
    },
    {
      "cell_type": "code",
      "metadata": {
        "id": "EZTA6Tj6BGDb",
        "colab_type": "code",
        "colab": {}
      },
      "source": [
        ""
      ],
      "execution_count": 0,
      "outputs": []
    }
  ]
}