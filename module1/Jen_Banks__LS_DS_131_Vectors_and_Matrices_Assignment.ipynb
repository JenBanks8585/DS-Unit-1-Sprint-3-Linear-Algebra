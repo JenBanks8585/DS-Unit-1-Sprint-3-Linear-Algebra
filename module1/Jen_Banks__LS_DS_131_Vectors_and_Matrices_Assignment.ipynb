{
  "nbformat": 4,
  "nbformat_minor": 0,
  "metadata": {
    "colab": {
      "name": "Jen_Banks_ LS_DS_131_Vectors_and_Matrices_Assignment.ipynb",
      "provenance": [],
      "collapsed_sections": [],
      "include_colab_link": true
    },
    "kernelspec": {
      "name": "python3",
      "display_name": "Python 3"
    }
  },
  "cells": [
    {
      "cell_type": "markdown",
      "metadata": {
        "id": "view-in-github",
        "colab_type": "text"
      },
      "source": [
        "<a href=\"https://colab.research.google.com/github/JenBanks8585/DS-Unit-1-Sprint-3-Linear-Algebra/blob/master/module1/Jen_Banks__LS_DS_131_Vectors_and_Matrices_Assignment.ipynb\" target=\"_parent\"><img src=\"https://colab.research.google.com/assets/colab-badge.svg\" alt=\"Open In Colab\"/></a>"
      ]
    },
    {
      "cell_type": "markdown",
      "metadata": {
        "id": "yXA3GwWhY9KL",
        "colab_type": "text"
      },
      "source": [
        "# Part 1 - Scalars and Vectors\n",
        "\n",
        "For the questions below it is not sufficient to simply provide answer to the questions, but you must solve the problems and show your work using python (the NumPy library will help a lot!) Translate the vectors and matrices into their appropriate python  representations and use numpy or functions that you write yourself to demonstrate the result or property. "
      ]
    },
    {
      "cell_type": "code",
      "metadata": {
        "id": "dTkyvujEsUaP",
        "colab_type": "code",
        "colab": {}
      },
      "source": [
        "import numpy as np\n",
        "import matplotlib.pyplot as plt\n",
        "from mpl_toolkits.mplot3d import Axes3D\n",
        "import numpy.linalg as la"
      ],
      "execution_count": 0,
      "outputs": []
    },
    {
      "cell_type": "markdown",
      "metadata": {
        "id": "oNOTv43_Zi9L",
        "colab_type": "text"
      },
      "source": [
        "## 1.1 Create a two-dimensional vector and plot it on a graph"
      ]
    },
    {
      "cell_type": "markdown",
      "metadata": {
        "id": "UdibSVjlrP8k",
        "colab_type": "text"
      },
      "source": [
        "Given  $\\vec{j}$ "
      ]
    },
    {
      "cell_type": "markdown",
      "metadata": {
        "id": "6nipwrHyrmJZ",
        "colab_type": "text"
      },
      "source": [
        "\\begin{align}\n",
        "   \\vec{j} = \n",
        "   \\begin{bmatrix}\n",
        "           .3\\\\\n",
        "           .4\n",
        "    \\end{bmatrix}\n",
        "    \\qquad\n",
        "\\end{align}"
      ]
    },
    {
      "cell_type": "code",
      "metadata": {
        "id": "XNqjzQzrkVG7",
        "colab_type": "code",
        "outputId": "55ffea91-7075-4a58-b6e6-642f73d99819",
        "colab": {
          "base_uri": "https://localhost:8080/",
          "height": 281
        }
      },
      "source": [
        "# Vector j \n",
        "fig, ax = plt.subplots()\n",
        "ax.grid()\n",
        "j = [.3, .4]\n",
        "\n",
        "plt.arrow(0, 0, .3, .4,  head_width=.02, head_length=0.01, color = 'b')\n",
        "plt.title('vector j')\n",
        "plt.show()"
      ],
      "execution_count": 3,
      "outputs": [
        {
          "output_type": "display_data",
          "data": {
            "image/png": "[encoded data removed]",
            "text/plain": [
              "<Figure size 432x288 with 1 Axes>"
            ]
          },
          "metadata": {
            "tags": []
          }
        }
      ]
    },
    {
      "cell_type": "markdown",
      "metadata": {
        "id": "unKFT619lk3e",
        "colab_type": "text"
      },
      "source": [
        "## 1.2 Create a three-dimensional vecor and plot it on a graph"
      ]
    },
    {
      "cell_type": "markdown",
      "metadata": {
        "id": "mz-YjXnlstUt",
        "colab_type": "text"
      },
      "source": [
        "\\begin{align}\n",
        "   \\vec{m} = \n",
        "   \\begin{bmatrix}\n",
        "           4\\\\\n",
        "           3\\\\\n",
        "           5\n",
        "    \\end{bmatrix}\n",
        "    \\qquad\n",
        "\\end{align}"
      ]
    },
    {
      "cell_type": "code",
      "metadata": {
        "id": "atUEd3T6llKm",
        "colab_type": "code",
        "outputId": "343cf7ba-9077-4164-9dca-745ddfe3fb79",
        "colab": {
          "base_uri": "https://localhost:8080/",
          "height": 248
        }
      },
      "source": [
        "# Vector m \n",
        "\n",
        "j = [[4], [3], [5]]\n",
        "\n",
        "vectors = np.array([[0, 0, 0, 4, 3, 5]])\n",
        "\n",
        "X, Y, Z, U, V, W = zip(*vectors)\n",
        "fig = plt.figure()\n",
        "ax = fig.add_subplot(111, projection='3d')\n",
        "ax.quiver(X, Y, Z, U, V, W, length=1)\n",
        "ax.set_xlim([0, 5])\n",
        "ax.set_ylim([0, 5])\n",
        "ax.set_zlim([0, 5])\n",
        "ax.set_xlabel('X')\n",
        "ax.set_ylabel('Y')\n",
        "ax.set_zlabel('Z')\n",
        "plt.show()"
      ],
      "execution_count": 5,
      "outputs": [
        {
          "output_type": "display_data",
          "data": {
            "image/png": "[encoded data removed]",
            "text/plain": [
              "<Figure size 432x288 with 1 Axes>"
            ]
          },
          "metadata": {
            "tags": []
          }
        }
      ]
    },
    {
      "cell_type": "markdown",
      "metadata": {
        "id": "b7qFxbKxZmI2",
        "colab_type": "text"
      },
      "source": [
        "## 1.3 Scale the vectors you created in 1.1 by $5$, $\\pi$, and $-e$ and plot all four vectors (original + 3 scaled vectors) on a graph. What do you notice about these vectors? "
      ]
    },
    {
      "cell_type": "code",
      "metadata": {
        "id": "ah6zMSLJdJwL",
        "colab_type": "code",
        "outputId": "0b96f800-4601-4f58-e63f-ebe3527b55e9",
        "colab": {
          "base_uri": "https://localhost:8080/",
          "height": 54
        }
      },
      "source": [
        "from math import e, pi\n",
        "import math\n",
        "print(e)\n",
        "print(pi)"
      ],
      "execution_count": 6,
      "outputs": [
        {
          "output_type": "stream",
          "text": [
            "2.718281828459045\n",
            "3.141592653589793\n"
          ],
          "name": "stdout"
        }
      ]
    },
    {
      "cell_type": "code",
      "metadata": {
        "id": "ueZaOizPxE6B",
        "colab_type": "code",
        "outputId": "c3735141-0b30-4f25-c91a-ba3ab7384448",
        "colab": {
          "base_uri": "https://localhost:8080/",
          "height": 281
        }
      },
      "source": [
        "#Original vector\n",
        "\n",
        "fig, ax = plt.subplots()\n",
        "ax.grid()\n",
        "\n",
        "j = [.3, .4]\n",
        "\n",
        "# multiplying with different scale factors\n",
        "green = np.multiply(5, j)\n",
        "red= np.multiply(math.pi, j)\n",
        "blue= np.multiply(-math.e, j)\n",
        "\n",
        "#Plotting the 4 vectors\n",
        "\n",
        "plt.arrow(0,0, green[0], green[1],head_width=.05, head_length=0.05, color ='green')       #scaled by 5\n",
        "plt.arrow(0,0, red[0], red[1],head_width=.05, head_length=0.05, color ='red')             #scaled by pi\n",
        "plt.arrow(0,0, *blue,head_width=.05, head_length=0.05, color ='blue')                     # scaled by -e, tuple unpacking\n",
        "plt.arrow(0,0, j[0], j[1],head_width=.05, head_length=0.05, color ='orange')              # orginal\n",
        "\n",
        "plt.xlim(-2,3)          \n",
        "plt.ylim(-2,3)\n",
        "plt.title(\"Scaled Vectors\")\n",
        "\n",
        "plt.show()"
      ],
      "execution_count": 9,
      "outputs": [
        {
          "output_type": "display_data",
          "data": {
            "image/png": "[encoded data removed]",
            "text/plain": [
              "<Figure size 432x288 with 1 Axes>"
            ]
          },
          "metadata": {
            "tags": []
          }
        }
      ]
    },
    {
      "cell_type": "markdown",
      "metadata": {
        "id": "wrgqa6sWimbH",
        "colab_type": "text"
      },
      "source": [
        "## 1.4 Graph vectors $\\vec{a}$ and $\\vec{b}$ and plot them on a graph\n",
        "\n",
        "\\begin{align}\n",
        "\\vec{a} = \\begin{bmatrix} 5 \\\\ 7 \\end{bmatrix}\n",
        "\\qquad\n",
        "\\vec{b} = \\begin{bmatrix} 3 \\\\4 \\end{bmatrix}\n",
        "\\end{align}"
      ]
    },
    {
      "cell_type": "code",
      "metadata": {
        "id": "I1BGXA_skV-b",
        "colab_type": "code",
        "outputId": "e52cb7ed-33f1-44ba-cb5e-b850a09d277e",
        "colab": {
          "base_uri": "https://localhost:8080/",
          "height": 281
        }
      },
      "source": [
        "# Vector a and vector b \n",
        "a = [[5],[7]]\n",
        "b = [[3], [4]]\n",
        "\n",
        "fig, ax = plt.subplots()\n",
        "ax.grid()\n",
        "\n",
        "plt.arrow(0, 0, 5, 7,  head_width=.2, head_length=0.1, color = 'b')\n",
        "plt.arrow(0, 0, 3, 4, head_width =.3, head_length = 0.2, color='g' )\n",
        "\n",
        "plt.xlim(-1,8)          \n",
        "plt.ylim(-1,8)\n",
        "\n",
        "plt.title('vectors a and b')\n",
        "plt.show()"
      ],
      "execution_count": 10,
      "outputs": [
        {
          "output_type": "display_data",
          "data": {
            "image/png": "[encoded data removed]",
            "text/plain": [
              "<Figure size 432x288 with 1 Axes>"
            ]
          },
          "metadata": {
            "tags": []
          }
        }
      ]
    },
    {
      "cell_type": "markdown",
      "metadata": {
        "id": "QN6RU_3gizpw",
        "colab_type": "text"
      },
      "source": [
        "## 1.5 find $\\vec{a} - \\vec{b}$ and plot the result on the same graph as $\\vec{a}$ and $\\vec{b}$. Is there a relationship between vectors $\\vec{a} \\thinspace, \\vec{b} \\thinspace \\text{and} \\thinspace \\vec{a-b}$"
      ]
    },
    {
      "cell_type": "code",
      "metadata": {
        "id": "68sWHIOPkXp5",
        "colab_type": "code",
        "outputId": "4112cac1-14fa-454b-a804-5360cf839cdb",
        "colab": {
          "base_uri": "https://localhost:8080/",
          "height": 299
        }
      },
      "source": [
        "# Vector a and vector b \n",
        "\n",
        "fig, ax = plt.subplots()\n",
        "ax.grid()\n",
        "\n",
        "a = [5, 7]\n",
        "b = [3, 4]\n",
        "a_minus_b= [a[0]-b[0], a[1]-b[1]]\n",
        "print(a_minus_b)\n",
        "\n",
        "plt.arrow(0, 0, 5, 7,  head_width=.2, head_length=0.1, color = 'b')\n",
        "plt.arrow(5, 7, -3, -4, head_width =.3, head_length = 0.2, color='g' )\n",
        "plt.arrow(0, 0, 2, 3, head_width =.3, head_length = 0.2, color='r' )\n",
        "\n",
        "plt.xlim(-1,6)          \n",
        "plt.ylim(-1,8)\n",
        "\n",
        "plt.title('vectors a,b& a_minus_b')\n",
        "plt.show()"
      ],
      "execution_count": 11,
      "outputs": [
        {
          "output_type": "stream",
          "text": [
            "[2, 3]\n"
          ],
          "name": "stdout"
        },
        {
          "output_type": "display_data",
          "data": {
            "image/png": "[encoded data removed]",
            "text/plain": [
              "<Figure size 432x288 with 1 Axes>"
            ]
          },
          "metadata": {
            "tags": []
          }
        }
      ]
    },
    {
      "cell_type": "markdown",
      "metadata": {
        "id": "1ZPVuJAlehu_",
        "colab_type": "text"
      },
      "source": [
        "## 1.6 Find $c \\cdot d$\n",
        "\n",
        "\\begin{align}\n",
        "\\vec{c} = \\begin{bmatrix}7 & 22 & 4 & 16\\end{bmatrix}\n",
        "\\qquad\n",
        "\\vec{d} = \\begin{bmatrix}12 & 6 & 2 & 9\\end{bmatrix}\n",
        "\\end{align}\n"
      ]
    },
    {
      "cell_type": "code",
      "metadata": {
        "id": "2_cZQFCskYNr",
        "colab_type": "code",
        "outputId": "7f47b98d-6c03-4a0e-b683-d211062fe447",
        "colab": {
          "base_uri": "https://localhost:8080/",
          "height": 35
        }
      },
      "source": [
        "#Computing by hand\n",
        "\n",
        "c= [7, 22, 4, 16]\n",
        "d= [12, 6, 2, 9]\n",
        "\n",
        "dot_product_cd = c[0]*d[0] + c[1]*d[1] + c[2]*d[2] + c[3]*d[3] \n",
        "dot_product_cd"
      ],
      "execution_count": 12,
      "outputs": [
        {
          "output_type": "execute_result",
          "data": {
            "text/plain": [
              "368"
            ]
          },
          "metadata": {
            "tags": []
          },
          "execution_count": 12
        }
      ]
    },
    {
      "cell_type": "code",
      "metadata": {
        "id": "bpoJ6gQImeve",
        "colab_type": "code",
        "colab": {
          "base_uri": "https://localhost:8080/",
          "height": 35
        },
        "outputId": "128246eb-303e-44fa-9e84-6892cff2ce90"
      },
      "source": [
        "# Using numpy.dot\n",
        "cc= np.array([7, 22, 4, 16])\n",
        "dd= np.array([12, 6, 2, 9])\n",
        "\n",
        "print(np.dot(cc,dd))"
      ],
      "execution_count": 13,
      "outputs": [
        {
          "output_type": "stream",
          "text": [
            "368\n"
          ],
          "name": "stdout"
        }
      ]
    },
    {
      "cell_type": "markdown",
      "metadata": {
        "id": "cLm8yokpfg9B",
        "colab_type": "text"
      },
      "source": [
        "##  1.7 Find $e \\times f$\n",
        "\n",
        "\\begin{align}\n",
        "\\vec{e} = \\begin{bmatrix} 5 \\\\ 7 \\\\ 2 \\end{bmatrix}\n",
        "\\qquad\n",
        "\\vec{f} = \\begin{bmatrix} 3 \\\\4 \\\\ 6 \\end{bmatrix}\n",
        "\\end{align}"
      ]
    },
    {
      "cell_type": "code",
      "metadata": {
        "id": "ku-TdCKAkYs8",
        "colab_type": "code",
        "outputId": "ffac9b57-98fd-48e1-c47b-b77bce8be8c5",
        "colab": {
          "base_uri": "https://localhost:8080/",
          "height": 35
        }
      },
      "source": [
        "#Computing by hand\n",
        "\n",
        "e= [5, 7, 2]\n",
        "f= [3, 4, 6]\n",
        "\n",
        "cross_product_ef=[e[1]*f[2]-e[2]*f[1], e[0]*f[2]-e[2]*f[0], e[0]*f[1]-e[1]*f[0] ]\n",
        "cross_product_ef"
      ],
      "execution_count": 26,
      "outputs": [
        {
          "output_type": "execute_result",
          "data": {
            "text/plain": [
              "[34, 24, -1]"
            ]
          },
          "metadata": {
            "tags": []
          },
          "execution_count": 26
        }
      ]
    },
    {
      "cell_type": "code",
      "metadata": {
        "id": "7DJFflQfTh00",
        "colab_type": "code",
        "colab": {
          "base_uri": "https://localhost:8080/",
          "height": 35
        },
        "outputId": "8ee4fb02-3171-4b0c-f19a-a1be982c3396"
      },
      "source": [
        "# Computing using numpy cross\n",
        "\n",
        "cross_ef=np.cross(e,f,axis=0)\n",
        "cross_ef\n",
        "\n"
      ],
      "execution_count": 28,
      "outputs": [
        {
          "output_type": "execute_result",
          "data": {
            "text/plain": [
              "array([ 34, -24,  -1])"
            ]
          },
          "metadata": {
            "tags": []
          },
          "execution_count": 28
        }
      ]
    },
    {
      "cell_type": "markdown",
      "metadata": {
        "id": "-TN8wO2-h53s",
        "colab_type": "text"
      },
      "source": [
        "## 1.8 Find $||g||$ and then find $||h||$. Which is longer?\n",
        "\n",
        "\\begin{align}\n",
        "\\vec{g} = \\begin{bmatrix} 1 \\\\ 1 \\\\ 1 \\\\ 8 \\end{bmatrix}\n",
        "\\qquad\n",
        "\\vec{h} = \\begin{bmatrix} 3 \\\\3 \\\\ 3 \\\\ 3 \\end{bmatrix}\n",
        "\\end{align}"
      ]
    },
    {
      "cell_type": "code",
      "metadata": {
        "id": "-5VKOMKBlgaA",
        "colab_type": "code",
        "outputId": "5bdc0545-33be-4527-f0b5-34c8e7cbc36d",
        "colab": {
          "base_uri": "https://localhost:8080/",
          "height": 54
        }
      },
      "source": [
        "#Computing by hand:\n",
        "g=np.array([[1],[1], [1],[8]])\n",
        "h=np.array([[3],[3], [3],[3]])\n",
        "\n",
        "magnitude_g= (1**2+1**2+1**2+8**2)**.5\n",
        "print('magnitude_g:', magnitude_g)\n",
        "\n",
        "magnitude_h= (3**2+3**2+3**2+3**2)**.5\n",
        "print('magnitude_h:', magnitude_h)"
      ],
      "execution_count": 24,
      "outputs": [
        {
          "output_type": "stream",
          "text": [
            "magnitude_g: 8.18535277187245\n",
            "magnitude_h: 6.0\n"
          ],
          "name": "stdout"
        }
      ]
    },
    {
      "cell_type": "code",
      "metadata": {
        "id": "WathQgfkT36v",
        "colab_type": "code",
        "colab": {
          "base_uri": "https://localhost:8080/",
          "height": 35
        },
        "outputId": "11b380ec-b778-4fdd-cdb8-5193c920f239"
      },
      "source": [
        "# Computing using numpy linalg\n",
        "g_norm=np.linalg.norm(g)\n",
        "h_norm=np.linalg.norm(h)\n",
        "print(g_norm, '  ', h_norm)"
      ],
      "execution_count": 25,
      "outputs": [
        {
          "output_type": "stream",
          "text": [
            "8.18535277187245    6.0\n"
          ],
          "name": "stdout"
        }
      ]
    },
    {
      "cell_type": "markdown",
      "metadata": {
        "id": "njrWIMS-ZAoH",
        "colab_type": "text"
      },
      "source": [
        "# Part 2 - Matrices"
      ]
    },
    {
      "cell_type": "markdown",
      "metadata": {
        "id": "GjkcAVIOmOnn",
        "colab_type": "text"
      },
      "source": [
        "## 2.1 What are the dimensions of the following matrices? Which of the following can be multiplied together? See if you can find all of the different legal combinations.\n",
        "\\begin{align}\n",
        "A = \\begin{bmatrix}\n",
        "1 & 2 \\\\\n",
        "3 & 4 \\\\\n",
        "5 & 6\n",
        "\\end{bmatrix}\n",
        "\\qquad\n",
        "B = \\begin{bmatrix}\n",
        "2 & 4 & 6 \\\\\n",
        "\\end{bmatrix}\n",
        "\\qquad\n",
        "C = \\begin{bmatrix}\n",
        "9 & 6 & 3 \\\\\n",
        "4 & 7 & 11\n",
        "\\end{bmatrix}\n",
        "\\qquad\n",
        "D = \\begin{bmatrix}\n",
        "1 & 0 & 0 \\\\\n",
        "0 & 1 & 0 \\\\\n",
        "0 & 0 & 1\n",
        "\\end{bmatrix}\n",
        "\\qquad\n",
        "E = \\begin{bmatrix}\n",
        "1 & 3 \\\\\n",
        "5 & 7\n",
        "\\end{bmatrix}\n",
        "\\end{align}"
      ]
    },
    {
      "cell_type": "markdown",
      "metadata": {
        "id": "iUbd3XiPKDEM",
        "colab_type": "text"
      },
      "source": [
        "\n",
        "a. Dimensions\n",
        "\\begin{align}\n",
        "A && 3x2\\\\\n",
        "B && 1x3\\\\\n",
        "C && 2x3\\\\\n",
        "D && 3x3\\\\\n",
        "E && 2x2\\\\\n",
        "\\end{align}\n",
        "\n",
        "\n",
        "b. Can be multiplied\n",
        "\\begin{align}\n",
        "B && and && A\\\\\n",
        "C && and &&  A\\\\\n",
        "C && and &&  D\\\\\n",
        "B && and &&  D\\\\\n",
        "A && and &&  C\\\\\n",
        "A && and &&  E\\\\\n",
        "E && and &&  C\\\\\n",
        "\\end{align}"
      ]
    },
    {
      "cell_type": "markdown",
      "metadata": {
        "id": "lMOlCoM3ncGa",
        "colab_type": "text"
      },
      "source": [
        "## 2.2 Find the following products: CD, AE, and BA. What are the dimensions of the resulting matrices? How does that relate to the dimensions of their factor matrices?"
      ]
    },
    {
      "cell_type": "code",
      "metadata": {
        "id": "Z69c-uPtnbIx",
        "colab_type": "code",
        "outputId": "578ff8da-970a-4433-9eb7-fd63bdd6f0e9",
        "colab": {
          "base_uri": "https://localhost:8080/",
          "height": 272
        }
      },
      "source": [
        "#Computing by Hand/dataframe\n",
        "\n",
        "C= pd.DataFrame([[9,6, 3], [4, 7, 11]])\n",
        "D= pd.DataFrame ([[1,0,0], [0,1,0], [0,0,1]])\n",
        "\n",
        "CD= pd.DataFrame([[9*1+6*0+3*0,9*0+6*1+3*0,9*0+6*0+3*1], \n",
        "                  [4*1+7*0+11*0,4*0+7*1+11*0,4*0+7*0+11*1]])\n",
        "\n",
        "A= pd.DataFrame ([[1,2], [3,4], [5,6]])\n",
        "E= pd.DataFrame ([[1,3], [5,7]])\n",
        "\n",
        "AE= pd.DataFrame([[1*1+2*5,1*3+2*7], \n",
        "                  [3*1+4*5,3*3+4*7],\n",
        "                  [5*1+6*5, 5*3+6*7]])\n",
        "\n",
        "B= pd.DataFrame([[2, 4, 6]])\n",
        "\n",
        "BA=pd.DataFrame([[2*1+4*3+6*5, 2*2+4*4+6*6]])\n",
        "\n",
        "\n",
        "print('CD, dimension is 2x3')\n",
        "print(CD)\n",
        "print(' ')\n",
        "print('AE, dimension is 3x2')\n",
        "print(AE)\n",
        "print(' ')\n",
        "print('BA, dimension is 1x2 ')\n",
        "print(BA)\n",
        "\n",
        "\n"
      ],
      "execution_count": 129,
      "outputs": [
        {
          "output_type": "stream",
          "text": [
            "CD, dimension is 2x3\n",
            "   0  1   2\n",
            "0  9  6   3\n",
            "1  4  7  11\n",
            " \n",
            "AE, dimension is 3x2\n",
            "    0   1\n",
            "0  11  17\n",
            "1  23  37\n",
            "2  35  57\n",
            " \n",
            "BA, dimension is 1x2 \n",
            "    0   1\n",
            "0  44  56\n"
          ],
          "name": "stdout"
        }
      ]
    },
    {
      "cell_type": "code",
      "metadata": {
        "id": "zhKwiSItoE2F",
        "colab_type": "code",
        "colab": {
          "base_uri": "https://localhost:8080/",
          "height": 217
        },
        "outputId": "e3dd82b6-a8f7-42ce-87e0-5ab6bd976cb3"
      },
      "source": [
        "#Computing by hand/np.matrix\n",
        "\n",
        "C= np.matrix([[9,6, 3], [4, 7, 11]])\n",
        "D= np.matrix([[1,0,0], [0,1,0], [0,0,1]])\n",
        "\n",
        "CD=np.matrix([[9*1+6*0+3*0,9*0+6*1+3*0,9*0+6*0+3*1], \n",
        "                  [4*1+7*0+11*0,4*0+7*1+11*0,4*0+7*0+11*1]])\n",
        "\n",
        "A= np.matrix([[1,2], [3,4], [5,6]])\n",
        "E=np.matrix ([[1,3], [5,7]])\n",
        "\n",
        "AE= np.matrix([[1*1+2*5,1*3+2*7], \n",
        "                  [3*1+4*5,3*3+4*7],\n",
        "                  [5*1+6*5, 5*3+6*7]])\n",
        "\n",
        "B= np.matrix([[2, 4, 6]])\n",
        "\n",
        "BA=np.matrix([[2*1+4*3+6*5, 2*2+4*4+6*6]])\n",
        "\n",
        "\n",
        "print('CD, dimension is 2x3')\n",
        "print(CD)\n",
        "print(' ')\n",
        "print('AE, dimension is 3x2')\n",
        "print(AE)\n",
        "print(' ')\n",
        "print('BA, dimension is 1x2 ')\n",
        "print(BA)"
      ],
      "execution_count": 35,
      "outputs": [
        {
          "output_type": "stream",
          "text": [
            "CD, dimension is 2x3\n",
            "[[ 9  6  3]\n",
            " [ 4  7 11]]\n",
            " \n",
            "AE, dimension is 3x2\n",
            "[[11 17]\n",
            " [23 37]\n",
            " [35 57]]\n",
            " \n",
            "BA, dimension is 1x2 \n",
            "[[44 56]]\n"
          ],
          "name": "stdout"
        }
      ]
    },
    {
      "cell_type": "code",
      "metadata": {
        "id": "HooZt7-6XT6_",
        "colab_type": "code",
        "colab": {
          "base_uri": "https://localhost:8080/",
          "height": 163
        },
        "outputId": "e49025cc-e291-4456-b1a1-b102e5e7325b"
      },
      "source": [
        "#Computing by hand/np.matrix\n",
        "\n",
        "CC= np.matrix([[9,6, 3], [4, 7, 11]])\n",
        "DD= np.matrix([[1,0,0], [0,1,0], [0,0,1]])\n",
        "AA= np.matrix([[1,2], [3,4], [5,6]])\n",
        "EE=np.matrix ([[1,3], [5,7]])\n",
        "BB= np.matrix([[2, 4, 6]])\n",
        "\n",
        "CCDD=np.matmul(CC,DD)\n",
        "AAEE= np.matmul(AA,EE)\n",
        "BBAA=np.matmul(BB,AA)\n",
        "\n",
        "print(CCDD)\n",
        "print('  ')\n",
        "print( AAEE)\n",
        "print('  ')\n",
        "print(BBAA)"
      ],
      "execution_count": 128,
      "outputs": [
        {
          "output_type": "stream",
          "text": [
            "[[ 9  6  3]\n",
            " [ 4  7 11]]\n",
            "  \n",
            "[[11 17]\n",
            " [23 37]\n",
            " [35 57]]\n",
            "  \n",
            "[[44 56]]\n"
          ],
          "name": "stdout"
        }
      ]
    },
    {
      "cell_type": "markdown",
      "metadata": {
        "id": "p2jmaGLgoFPN",
        "colab_type": "text"
      },
      "source": [
        "## 2.3  Find $F^{T}$. How are the numbers along the main diagonal (top left to bottom right) of the original matrix and its transpose related? What are the dimensions of $F$? What are the dimensions of $F^{T}$?\n",
        "\n",
        "\\begin{align}\n",
        "F = \n",
        "\\begin{bmatrix}\n",
        "20 & 19 & 18 & 17 \\\\\n",
        "16 & 15 & 14 & 13 \\\\\n",
        "12 & 11 & 10 & 9 \\\\\n",
        "8 & 7 & 6 & 5 \\\\\n",
        "4 & 3 & 2 & 1\n",
        "\\end{bmatrix}\n",
        "\\end{align}"
      ]
    },
    {
      "cell_type": "code",
      "metadata": {
        "id": "Wl3ElwgLqaAn",
        "colab_type": "code",
        "outputId": "ab3d4bdf-7aec-4ddf-916a-2e6f33e5a275",
        "colab": {
          "base_uri": "https://localhost:8080/",
          "height": 459
        }
      },
      "source": [
        "#Manually transposing the matrix\n",
        "\n",
        "F= pd.DataFrame ([[20,19,18, 17],\n",
        "                  [16,15,14,13],\n",
        "                  [12,11,10, 9],\n",
        "                  [8,7,6, 5],\n",
        "                  [4,3,2, 1]])\n",
        "F_transpose=pd.DataFrame([[F[0][0],F[0][1],F[0][2],F[0][3],F[0][4]],\n",
        "              [F[1][0],F[1][1],F[1][2],F[1][3],F[1][4]],\n",
        "              [F[2][0],F[2][1],F[2][2],F[2][3],F[2][4]],\n",
        "              [F[3][0],F[3][1],F[3][2],F[3][3],F[3][4]]])\n",
        "\n",
        "print(\"F\")\n",
        "print(F)\n",
        "print(' ')  \n",
        "\n",
        "print('F_transpose')          \n",
        "print(F_transpose)\n",
        "\n",
        "#Using transpose \n",
        "print(' ') \n",
        "print('Using F.T') \n",
        "F.T"
      ],
      "execution_count": 13,
      "outputs": [
        {
          "output_type": "stream",
          "text": [
            "F\n",
            "    0   1   2   3\n",
            "0  20  19  18  17\n",
            "1  16  15  14  13\n",
            "2  12  11  10   9\n",
            "3   8   7   6   5\n",
            "4   4   3   2   1\n",
            " \n",
            "F_transpose\n",
            "    0   1   2  3  4\n",
            "0  20  16  12  8  4\n",
            "1  19  15  11  7  3\n",
            "2  18  14  10  6  2\n",
            "3  17  13   9  5  1\n",
            " \n",
            "Using F.T\n"
          ],
          "name": "stdout"
        },
        {
          "output_type": "execute_result",
          "data": {
            "text/html": [
              "<div>\n",
              "<style scoped>\n",
              "    .dataframe tbody tr th:only-of-type {\n",
              "        vertical-align: middle;\n",
              "    }\n",
              "\n",
              "    .dataframe tbody tr th {\n",
              "        vertical-align: top;\n",
              "    }\n",
              "\n",
              "    .dataframe thead th {\n",
              "        text-align: right;\n",
              "    }\n",
              "</style>\n",
              "<table border=\"1\" class=\"dataframe\">\n",
              "  <thead>\n",
              "    <tr style=\"text-align: right;\">\n",
              "      <th></th>\n",
              "      <th>0</th>\n",
              "      <th>1</th>\n",
              "      <th>2</th>\n",
              "      <th>3</th>\n",
              "      <th>4</th>\n",
              "    </tr>\n",
              "  </thead>\n",
              "  <tbody>\n",
              "    <tr>\n",
              "      <th>0</th>\n",
              "      <td>20</td>\n",
              "      <td>16</td>\n",
              "      <td>12</td>\n",
              "      <td>8</td>\n",
              "      <td>4</td>\n",
              "    </tr>\n",
              "    <tr>\n",
              "      <th>1</th>\n",
              "      <td>19</td>\n",
              "      <td>15</td>\n",
              "      <td>11</td>\n",
              "      <td>7</td>\n",
              "      <td>3</td>\n",
              "    </tr>\n",
              "    <tr>\n",
              "      <th>2</th>\n",
              "      <td>18</td>\n",
              "      <td>14</td>\n",
              "      <td>10</td>\n",
              "      <td>6</td>\n",
              "      <td>2</td>\n",
              "    </tr>\n",
              "    <tr>\n",
              "      <th>3</th>\n",
              "      <td>17</td>\n",
              "      <td>13</td>\n",
              "      <td>9</td>\n",
              "      <td>5</td>\n",
              "      <td>1</td>\n",
              "    </tr>\n",
              "  </tbody>\n",
              "</table>\n",
              "</div>"
            ],
            "text/plain": [
              "    0   1   2  3  4\n",
              "0  20  16  12  8  4\n",
              "1  19  15  11  7  3\n",
              "2  18  14  10  6  2\n",
              "3  17  13   9  5  1"
            ]
          },
          "metadata": {
            "tags": []
          },
          "execution_count": 13
        }
      ]
    },
    {
      "cell_type": "code",
      "metadata": {
        "id": "Smb7KOoBZoFG",
        "colab_type": "code",
        "colab": {
          "base_uri": "https://localhost:8080/",
          "height": 295
        },
        "outputId": "a1af2c37-0da8-4b29-fc53-c3cc122698ee"
      },
      "source": [
        "#using transpose method\n",
        "\n",
        "F= pd.DataFrame ([[20,19,18, 17],\n",
        "                  [16,15,14,13],\n",
        "                  [12,11,10, 9],\n",
        "                  [8,7,6, 5],\n",
        "                  [4,3,2, 1]])\n",
        "\n",
        "print(F)\n",
        "print(' ')\n",
        "\n",
        "F.T"
      ],
      "execution_count": 46,
      "outputs": [
        {
          "output_type": "stream",
          "text": [
            "    0   1   2   3\n",
            "0  20  19  18  17\n",
            "1  16  15  14  13\n",
            "2  12  11  10   9\n",
            "3   8   7   6   5\n",
            "4   4   3   2   1\n",
            " \n"
          ],
          "name": "stdout"
        },
        {
          "output_type": "execute_result",
          "data": {
            "text/html": [
              "<div>\n",
              "<style scoped>\n",
              "    .dataframe tbody tr th:only-of-type {\n",
              "        vertical-align: middle;\n",
              "    }\n",
              "\n",
              "    .dataframe tbody tr th {\n",
              "        vertical-align: top;\n",
              "    }\n",
              "\n",
              "    .dataframe thead th {\n",
              "        text-align: right;\n",
              "    }\n",
              "</style>\n",
              "<table border=\"1\" class=\"dataframe\">\n",
              "  <thead>\n",
              "    <tr style=\"text-align: right;\">\n",
              "      <th></th>\n",
              "      <th>0</th>\n",
              "      <th>1</th>\n",
              "      <th>2</th>\n",
              "      <th>3</th>\n",
              "      <th>4</th>\n",
              "    </tr>\n",
              "  </thead>\n",
              "  <tbody>\n",
              "    <tr>\n",
              "      <th>0</th>\n",
              "      <td>20</td>\n",
              "      <td>16</td>\n",
              "      <td>12</td>\n",
              "      <td>8</td>\n",
              "      <td>4</td>\n",
              "    </tr>\n",
              "    <tr>\n",
              "      <th>1</th>\n",
              "      <td>19</td>\n",
              "      <td>15</td>\n",
              "      <td>11</td>\n",
              "      <td>7</td>\n",
              "      <td>3</td>\n",
              "    </tr>\n",
              "    <tr>\n",
              "      <th>2</th>\n",
              "      <td>18</td>\n",
              "      <td>14</td>\n",
              "      <td>10</td>\n",
              "      <td>6</td>\n",
              "      <td>2</td>\n",
              "    </tr>\n",
              "    <tr>\n",
              "      <th>3</th>\n",
              "      <td>17</td>\n",
              "      <td>13</td>\n",
              "      <td>9</td>\n",
              "      <td>5</td>\n",
              "      <td>1</td>\n",
              "    </tr>\n",
              "  </tbody>\n",
              "</table>\n",
              "</div>"
            ],
            "text/plain": [
              "    0   1   2  3  4\n",
              "0  20  16  12  8  4\n",
              "1  19  15  11  7  3\n",
              "2  18  14  10  6  2\n",
              "3  17  13   9  5  1"
            ]
          },
          "metadata": {
            "tags": []
          },
          "execution_count": 46
        }
      ]
    },
    {
      "cell_type": "markdown",
      "metadata": {
        "id": "13ik2LEEZLHn",
        "colab_type": "text"
      },
      "source": [
        "# Part 3 - Square Matrices"
      ]
    },
    {
      "cell_type": "markdown",
      "metadata": {
        "id": "sDBAPUwfp7f7",
        "colab_type": "text"
      },
      "source": [
        "## 3.1 Find $IG$ (be sure to show your work) 😃\n",
        "\n",
        "You don't have to do anything crazy complicated here to show your work, just create the G matrix as specified below, and a corresponding 2x2 Identity matrix and then multiply them together to show the result. You don't need to write LaTeX or anything like that (unless you want to).\n",
        "\n",
        "\\begin{align}\n",
        "G= \n",
        "\\begin{bmatrix}\n",
        "13 & 14 \\\\\n",
        "21 & 12 \n",
        "\\end{bmatrix}\n",
        "\\end{align}"
      ]
    },
    {
      "cell_type": "code",
      "metadata": {
        "id": "ZnqvZBOYqar3",
        "colab_type": "code",
        "outputId": "abc39947-1be0-49ed-cfa0-b066d5bcbc5a",
        "colab": {
          "base_uri": "https://localhost:8080/",
          "height": 308
        }
      },
      "source": [
        "# matrix G\n",
        "G= pd.DataFrame([[13,14], [21, 12]])\n",
        "print('matrix G')\n",
        "print(G)\n",
        "print('  ')\n",
        "\n",
        "I= pd.DataFrame([[1,0], [0, 1]])\n",
        "print('Identity matrix')\n",
        "print(I)\n",
        "print('  ')\n",
        "\n",
        "#Multipling G by its identity\n",
        "\n",
        "IG= pd.DataFrame([[G[0][0]*I[0][0]+G[1][0]*I[0][1],G[0][0]*I[1][0]+G[1][0]*I[1][1]],\n",
        "                  [G[0][1]*I[0][0]+G[1][1]*I[0][1], G[0][1]*I[1][0]+G[1][1]*I[1][1]]])\n",
        "print('product of G and I')\n",
        "IG"
      ],
      "execution_count": 47,
      "outputs": [
        {
          "output_type": "stream",
          "text": [
            "matrix G\n",
            "    0   1\n",
            "0  13  14\n",
            "1  21  12\n",
            "  \n",
            "Identity matrix\n",
            "   0  1\n",
            "0  1  0\n",
            "1  0  1\n",
            "  \n",
            "product of G and I\n"
          ],
          "name": "stdout"
        },
        {
          "output_type": "execute_result",
          "data": {
            "text/html": [
              "<div>\n",
              "<style scoped>\n",
              "    .dataframe tbody tr th:only-of-type {\n",
              "        vertical-align: middle;\n",
              "    }\n",
              "\n",
              "    .dataframe tbody tr th {\n",
              "        vertical-align: top;\n",
              "    }\n",
              "\n",
              "    .dataframe thead th {\n",
              "        text-align: right;\n",
              "    }\n",
              "</style>\n",
              "<table border=\"1\" class=\"dataframe\">\n",
              "  <thead>\n",
              "    <tr style=\"text-align: right;\">\n",
              "      <th></th>\n",
              "      <th>0</th>\n",
              "      <th>1</th>\n",
              "    </tr>\n",
              "  </thead>\n",
              "  <tbody>\n",
              "    <tr>\n",
              "      <th>0</th>\n",
              "      <td>13</td>\n",
              "      <td>14</td>\n",
              "    </tr>\n",
              "    <tr>\n",
              "      <th>1</th>\n",
              "      <td>21</td>\n",
              "      <td>12</td>\n",
              "    </tr>\n",
              "  </tbody>\n",
              "</table>\n",
              "</div>"
            ],
            "text/plain": [
              "    0   1\n",
              "0  13  14\n",
              "1  21  12"
            ]
          },
          "metadata": {
            "tags": []
          },
          "execution_count": 47
        }
      ]
    },
    {
      "cell_type": "code",
      "metadata": {
        "id": "PWX9VK9PaS74",
        "colab_type": "code",
        "colab": {
          "base_uri": "https://localhost:8080/",
          "height": 108
        },
        "outputId": "7de92219-a2ae-443f-da32-6cb030674bab"
      },
      "source": [
        "#Computing by np.matmul\n",
        "IG_=np.matmul(I,G)\n",
        "IG_"
      ],
      "execution_count": 50,
      "outputs": [
        {
          "output_type": "execute_result",
          "data": {
            "text/html": [
              "<div>\n",
              "<style scoped>\n",
              "    .dataframe tbody tr th:only-of-type {\n",
              "        vertical-align: middle;\n",
              "    }\n",
              "\n",
              "    .dataframe tbody tr th {\n",
              "        vertical-align: top;\n",
              "    }\n",
              "\n",
              "    .dataframe thead th {\n",
              "        text-align: right;\n",
              "    }\n",
              "</style>\n",
              "<table border=\"1\" class=\"dataframe\">\n",
              "  <thead>\n",
              "    <tr style=\"text-align: right;\">\n",
              "      <th></th>\n",
              "      <th>0</th>\n",
              "      <th>1</th>\n",
              "    </tr>\n",
              "  </thead>\n",
              "  <tbody>\n",
              "    <tr>\n",
              "      <th>0</th>\n",
              "      <td>13</td>\n",
              "      <td>14</td>\n",
              "    </tr>\n",
              "    <tr>\n",
              "      <th>1</th>\n",
              "      <td>21</td>\n",
              "      <td>12</td>\n",
              "    </tr>\n",
              "  </tbody>\n",
              "</table>\n",
              "</div>"
            ],
            "text/plain": [
              "    0   1\n",
              "0  13  14\n",
              "1  21  12"
            ]
          },
          "metadata": {
            "tags": []
          },
          "execution_count": 50
        }
      ]
    },
    {
      "cell_type": "markdown",
      "metadata": {
        "id": "DZ_0XTDQqpMT",
        "colab_type": "text"
      },
      "source": [
        "## 3.2 Find $|H|$ and then find $|J|$.\n",
        "\n",
        "\\begin{align}\n",
        "H= \n",
        "\\begin{bmatrix}\n",
        "12 & 11 \\\\\n",
        "7 & 10 \n",
        "\\end{bmatrix}\n",
        "\\qquad\n",
        "J= \n",
        "\\begin{bmatrix}\n",
        "0 & 1 & 2 \\\\\n",
        "7 & 10 & 4 \\\\\n",
        "3 & 2 & 0\n",
        "\\end{bmatrix}\n",
        "\\end{align}\n"
      ]
    },
    {
      "cell_type": "code",
      "metadata": {
        "id": "5QShhoXyrjDS",
        "colab_type": "code",
        "colab": {
          "base_uri": "https://localhost:8080/",
          "height": 272
        },
        "outputId": "e8152b77-572f-457f-f8f3-d94e43c14415"
      },
      "source": [
        "#Computing by hand\n",
        "H=pd.DataFrame([[12,11], [7, 10]])\n",
        "detH =H[0][0]*H[1][1]-H[0][1]*H[1][0]\n",
        "print('H')\n",
        "print(H, '   ', 'detH =', detH)\n",
        "print(' ')\n",
        "\n",
        "#Computing by np.linalg\n",
        "HH=np.matrix([[12,11], [7, 10]])\n",
        "print('Determinant is ',la.det(HH))\n",
        "\n",
        "\n",
        "J= pd.DataFrame([[0,1 ,2], [7, 10, 4], [3, 2, 0]])\n",
        "\n",
        "#Computing by np.linalg\n",
        "JJ=np.matrix([[0,1 ,2], [7, 10, 4], [3, 2, 0]])\n",
        "\n",
        "\n",
        "print('J')\n",
        "print(J)\n",
        "print('Determinant of J is', 0+12+28-60-0-0)\n",
        "print('Determinant of JJ is ',la.det(JJ))\n",
        "print(' ')"
      ],
      "execution_count": 51,
      "outputs": [
        {
          "output_type": "stream",
          "text": [
            "H\n",
            "    0   1\n",
            "0  12  11\n",
            "1   7  10     detH = 43\n",
            " \n",
            "Determinant is  43.000000000000014\n",
            "J\n",
            "   0   1  2\n",
            "0  0   1  2\n",
            "1  7  10  4\n",
            "2  3   2  0\n",
            "Determinant of J is -20\n",
            "Determinant of JJ is  -19.999999999999996\n",
            " \n"
          ],
          "name": "stdout"
        }
      ]
    },
    {
      "cell_type": "markdown",
      "metadata": {
        "id": "2gZl1CFwrXSH",
        "colab_type": "text"
      },
      "source": [
        "## 3.3 Find $H^{-1}$ and then find $J^{-1}$"
      ]
    },
    {
      "cell_type": "code",
      "metadata": {
        "id": "nyX6De2-rio1",
        "colab_type": "code",
        "colab": {
          "base_uri": "https://localhost:8080/",
          "height": 126
        },
        "outputId": "0a99f904-4b30-424a-9390-d1444d95a6c1"
      },
      "source": [
        "#Inverse of H and J\n",
        "\n",
        "invH= np.linalg.inv(H)\n",
        "invJ= np.linalg.inv(J)\n",
        "print(invH)\n",
        "print('  ')\n",
        "print(invJ)"
      ],
      "execution_count": 53,
      "outputs": [
        {
          "output_type": "stream",
          "text": [
            "[[ 0.23255814 -0.25581395]\n",
            " [-0.1627907   0.27906977]]\n",
            "  \n",
            "[[ 0.4  -0.2   0.8 ]\n",
            " [-0.6   0.3  -0.7 ]\n",
            " [ 0.8  -0.15  0.35]]\n"
          ],
          "name": "stdout"
        }
      ]
    },
    {
      "cell_type": "markdown",
      "metadata": {
        "id": "Vvd4Pe86rjhW",
        "colab_type": "text"
      },
      "source": [
        "## 3.4 Find $HH^{-1}$ and then find $J^{-1}J$. Is $HH^{-1} == J^{-1}J$? Why or Why not? \n",
        "\n",
        "Please ignore Python rounding errors. If necessary, format your output so that it rounds to 5 significant digits (the fifth decimal place)."
      ]
    },
    {
      "cell_type": "code",
      "metadata": {
        "id": "DiM8cF3lb2s6",
        "colab_type": "code",
        "colab": {
          "base_uri": "https://localhost:8080/",
          "height": 163
        },
        "outputId": "48354801-5f50-4c52-f293-86230dde19f7"
      },
      "source": [
        "#Computing for H*invH and J*invJ\n",
        "\n",
        "H_invH=np.matmul(H,invH)\n",
        "J_invJ=np.matmul(J,invJ)\n",
        "print(H_invH)\n",
        "print(' ')\n",
        "print(J_invJ)"
      ],
      "execution_count": 55,
      "outputs": [
        {
          "output_type": "stream",
          "text": [
            "              0             1\n",
            "0  1.000000e+00  5.551115e-16\n",
            "1  2.220446e-16  1.000000e+00\n",
            " \n",
            "     0             1    2\n",
            "0  1.0 -5.551115e-17  0.0\n",
            "1  0.0  1.000000e+00  0.0\n",
            "2  0.0  0.000000e+00  1.0\n"
          ],
          "name": "stdout"
        }
      ]
    },
    {
      "cell_type": "markdown",
      "metadata": {
        "id": "ypoD7ktOcWgY",
        "colab_type": "text"
      },
      "source": [
        "They are both identity matrix but they are not equivalent because H_invH is a 2x2 matrix, while J_invJ is a 3x3"
      ]
    },
    {
      "cell_type": "markdown",
      "metadata": {
        "id": "V0iTO4McYjtk",
        "colab_type": "text"
      },
      "source": [
        "# Stretch Goals: \n",
        "\n",
        "A reminder that these challenges are optional. If you finish your work quickly we welcome you to work on them. If there are other activities that you feel like will help your understanding of the above topics more, feel free to work on that. Topics from the Stretch Goals sections will never end up on Sprint Challenges. You don't have to do these in order, you don't have to do all of them. \n",
        "\n",
        "- Write a function that can calculate the dot product of any two vectors of equal length that are passed to it.\n",
        "- Write a function that can calculate the norm of any vector\n",
        "- Prove to yourself again that the vectors in 1.9 are orthogonal by graphing them. \n",
        "- Research how to plot a 3d graph with animations so that you can make the graph rotate (this will be easier in a local notebook than in google colab)\n",
        "- Create and plot a matrix on a 2d graph.\n",
        "- Create and plot a matrix on a 3d graph.\n",
        "- Plot two vectors that are not collinear on a 2d graph. Calculate the determinant of the 2x2 matrix that these vectors form. How does this determinant relate to the graphical interpretation of the vectors?\n",
        "\n"
      ]
    },
    {
      "cell_type": "code",
      "metadata": {
        "id": "iZxGddG_dkjk",
        "colab_type": "code",
        "colab": {
          "base_uri": "https://localhost:8080/",
          "height": 35
        },
        "outputId": "8e5b21b8-2f9c-42e6-9969-e285e0b62946"
      },
      "source": [
        "#Dot product option 1(List comprehension, zip)\n",
        "\n",
        "A= [1, 2, 3, 4, 5]\n",
        "B= [6, 7, 8, 9, 10]\n",
        "\n",
        "sum([a*b for a,b in zip(A,B)])\n"
      ],
      "execution_count": 64,
      "outputs": [
        {
          "output_type": "execute_result",
          "data": {
            "text/plain": [
              "130"
            ]
          },
          "metadata": {
            "tags": []
          },
          "execution_count": 64
        }
      ]
    },
    {
      "cell_type": "code",
      "metadata": {
        "id": "R0QlvGHBjNb4",
        "colab_type": "code",
        "colab": {
          "base_uri": "https://localhost:8080/",
          "height": 35
        },
        "outputId": "c91f8e2a-2569-4fc5-e98e-c4b826c4972c"
      },
      "source": [
        "#Dot product option 2(for loop)\n",
        "\n",
        "c = [1,2,3,4, 5]\n",
        "d = [6,7,8,9,10]\n",
        "cd = []                        #Create empty list\n",
        "for i in range(0, len(c)):\n",
        "     cd.append(c[i]*d[i])      #Adds each element to the list\n",
        "print(sum(cd))"
      ],
      "execution_count": 65,
      "outputs": [
        {
          "output_type": "stream",
          "text": [
            "130\n"
          ],
          "name": "stdout"
        }
      ]
    },
    {
      "cell_type": "code",
      "metadata": {
        "id": "0TGG4tPLjqob",
        "colab_type": "code",
        "colab": {
          "base_uri": "https://localhost:8080/",
          "height": 35
        },
        "outputId": "e0a24f4d-24bf-455d-8d65-61719a075beb"
      },
      "source": [
        "# Vector norm, option 1\n",
        "\n",
        "A= [1, 2, 3, 4, 5]\n",
        "\n",
        "(sum([a**2 for a in A]))**.5\n",
        "\n"
      ],
      "execution_count": 74,
      "outputs": [
        {
          "output_type": "execute_result",
          "data": {
            "text/plain": [
              "7.416198487095663"
            ]
          },
          "metadata": {
            "tags": []
          },
          "execution_count": 74
        }
      ]
    },
    {
      "cell_type": "code",
      "metadata": {
        "id": "Whh0Gfsefo-_",
        "colab_type": "code",
        "colab": {
          "base_uri": "https://localhost:8080/",
          "height": 35
        },
        "outputId": "f6baacee-f50f-4a60-eb32-43a7332f6ed7"
      },
      "source": [
        "# Vector norm, option 2\n",
        "\n",
        "d = [1,2,3,4,5]\n",
        "c = []                        #Create empty list\n",
        "for i in range(0, len(d)):\n",
        "  c.append((d[i])**2)         #Adds each element to the list\n",
        "print((sum(c))**.5)           #computes the norm"
      ],
      "execution_count": 88,
      "outputs": [
        {
          "output_type": "stream",
          "text": [
            "7.416198487095663\n"
          ],
          "name": "stdout"
        }
      ]
    },
    {
      "cell_type": "markdown",
      "metadata": {
        "id": "zLdCbE33xIKu",
        "colab_type": "text"
      },
      "source": [
        "Prove to yourself again that the vectors in 1.9 are orthogonal by graphing them."
      ]
    },
    {
      "cell_type": "code",
      "metadata": {
        "id": "gzAZ9pVvxKG3",
        "colab_type": "code",
        "colab": {
          "base_uri": "https://localhost:8080/",
          "height": 281
        },
        "outputId": "a262310c-de0d-431b-8217-a02af555f66c"
      },
      "source": [
        "# We dont really have a 1.9, so I will just attempt to create my orthogonal vectors\n",
        "\n",
        "fig, ax = plt.subplots()\n",
        "ax.grid()\n",
        "\n",
        "v = [-3, 4]\n",
        "w = [4, 3]\n",
        "\n",
        "plt.arrow(0, 0, -3, 4,  head_width=.2, head_length=0.25, color = 'g')\n",
        "plt.arrow(0, 0, 4, 3,  head_width=.2, head_length=0.25, color = 'b')\n",
        "\n",
        "\n",
        "ax.set_xlim([-5, 10])\n",
        "ax.set_ylim([-5, 10])\n",
        "plt.title('vector v and w')\n",
        "plt.show()"
      ],
      "execution_count": 133,
      "outputs": [
        {
          "output_type": "display_data",
          "data": {
            "image/png": "[encoded data removed]",
            "text/plain": [
              "<Figure size 432x288 with 1 Axes>"
            ]
          },
          "metadata": {
            "tags": []
          }
        }
      ]
    },
    {
      "cell_type": "code",
      "metadata": {
        "id": "ymTVrpHIyQWl",
        "colab_type": "code",
        "colab": {
          "base_uri": "https://localhost:8080/",
          "height": 35
        },
        "outputId": "d47501a1-19ea-4305-eafd-4d2973981634"
      },
      "source": [
        "# Cross-multiplying v, if cross product is 0, then they are orthogonal\n",
        "np.matmul(v,w)"
      ],
      "execution_count": 134,
      "outputs": [
        {
          "output_type": "execute_result",
          "data": {
            "text/plain": [
              "0"
            ]
          },
          "metadata": {
            "tags": []
          },
          "execution_count": 134
        }
      ]
    },
    {
      "cell_type": "code",
      "metadata": {
        "id": "_L2OtLGPjj9L",
        "colab_type": "code",
        "colab": {
          "base_uri": "https://localhost:8080/",
          "height": 281
        },
        "outputId": "4d7a3436-a19e-4585-eefd-fca9f41db958"
      },
      "source": [
        "# Create and plot a matrix on a 2d graph.\n",
        "\n",
        "fig, ax = plt.subplots()\n",
        "ax.grid()\n",
        "r = [-7, 4]\n",
        "\n",
        "plt.arrow(0, 0, -7, 4,  head_width=.09, head_length=0.25, color = 'g')\n",
        "\n",
        "ax.set_xlim([-8, 4])\n",
        "ax.set_ylim([-1, 5])\n",
        "plt.title('vector r')\n",
        "plt.show()\n",
        "\n"
      ],
      "execution_count": 112,
      "outputs": [
        {
          "output_type": "display_data",
          "data": {
            "image/png": "[encoded data removed]",
            "text/plain": [
              "<Figure size 432x288 with 1 Axes>"
            ]
          },
          "metadata": {
            "tags": []
          }
        }
      ]
    },
    {
      "cell_type": "code",
      "metadata": {
        "id": "wXsad5N9jiU_",
        "colab_type": "code",
        "colab": {
          "base_uri": "https://localhost:8080/",
          "height": 248
        },
        "outputId": "3e27c1f0-a66a-4f87-a5d4-2b24d7f333c6"
      },
      "source": [
        "# Create and plot a matrix on a 3d graph.\n",
        "\n",
        "t = [[-4], [-1], [-5]]\n",
        "\n",
        "vectors = np.array([[0, 0, 0, -4, -1, -3]])\n",
        "\n",
        "X, Y, Z, U, V, W = zip(*vectors)\n",
        "fig = plt.figure()\n",
        "ax = fig.add_subplot(111, projection='3d')\n",
        "ax.quiver(X, Y, Z, U, V, W, length=1)\n",
        "ax.set_xlim([-6, 4])\n",
        "ax.set_ylim([-6, 4])\n",
        "ax.set_zlim([-6, 4])\n",
        "ax.set_xlabel('X')\n",
        "ax.set_ylabel('Y')\n",
        "ax.set_zlabel('Z')\n",
        "plt.show()"
      ],
      "execution_count": 109,
      "outputs": [
        {
          "output_type": "display_data",
          "data": {
            "image/png": "[encoded data removed]",
            "text/plain": [
              "<Figure size 432x288 with 1 Axes>"
            ]
          },
          "metadata": {
            "tags": []
          }
        }
      ]
    },
    {
      "cell_type": "markdown",
      "metadata": {
        "id": "4Kl2Tnp3mIPr",
        "colab_type": "text"
      },
      "source": [
        "Plot two vectors that are not collinear on a 2d graph. Calculate the determinant of the 2x2 matrix that these vectors form. How does this determinant relate to the graphical interpretation of the vectors?"
      ]
    },
    {
      "cell_type": "code",
      "metadata": {
        "id": "78zwBriEmMzE",
        "colab_type": "code",
        "colab": {
          "base_uri": "https://localhost:8080/",
          "height": 281
        },
        "outputId": "2332bcad-2c9f-4a04-d084-644b2c42069a"
      },
      "source": [
        "# Plotting two vectors, and visualizing its determinant\n",
        "\n",
        "fig, ax = plt.subplots()\n",
        "ax.grid()\n",
        "\n",
        "r = [7, 4]\n",
        "s = [7, -2]\n",
        "\n",
        "plt.arrow(0, 0, 7, 4,  head_width=.2, head_length=0.25, color = 'g')\n",
        "plt.arrow(0, 0, 7, -2,  head_width=.2, head_length=0.25, color = 'b')\n",
        "\n",
        "x = [0, 7, 14]\n",
        "y1 = [0, 4, 2]\n",
        "y2 = [0, -2, 2]\n",
        "plt.fill_between(x, y1, y2)\n",
        "\n",
        "ax.set_xlim([-2, 15])\n",
        "ax.set_ylim([-3, 5])\n",
        "plt.title('vector r and s')\n",
        "plt.show()"
      ],
      "execution_count": 120,
      "outputs": [
        {
          "output_type": "display_data",
          "data": {
            "image/png": "[encoded data removed]",
            "text/plain": [
              "<Figure size 432x288 with 1 Axes>"
            ]
          },
          "metadata": {
            "tags": []
          }
        }
      ]
    },
    {
      "cell_type": "code",
      "metadata": {
        "id": "GEGmH8LZrYVm",
        "colab_type": "code",
        "colab": {
          "base_uri": "https://localhost:8080/",
          "height": 35
        },
        "outputId": "55b6777d-0d3a-4e81-daa8-b0725705ea8c"
      },
      "source": [
        "#Determining determinant by linalg.det\n",
        "\n",
        "rs=pd.DataFrame([r,s])\n",
        "det_rs= np.linalg.det(rs)\n",
        "det_rs"
      ],
      "execution_count": 126,
      "outputs": [
        {
          "output_type": "execute_result",
          "data": {
            "text/plain": [
              "-41.999999999999986"
            ]
          },
          "metadata": {
            "tags": []
          },
          "execution_count": 126
        }
      ]
    },
    {
      "cell_type": "code",
      "metadata": {
        "id": "RHxeXX6wr-Gj",
        "colab_type": "code",
        "colab": {
          "base_uri": "https://localhost:8080/",
          "height": 35
        },
        "outputId": "4f014a86-b096-453e-9a8c-6313676c9e80"
      },
      "source": [
        "#Computing by hand, sign must have something to do with directionality\n",
        "rectangle_area= 6*14\n",
        "area_small_triangle= 0.5*2*7\n",
        "area_big_triangle=0.5*7*4\n",
        "area_parallelogram=rectangle_area-2*(area_small_triangle+area_big_triangle)\n",
        "area_parallelogram"
      ],
      "execution_count": 125,
      "outputs": [
        {
          "output_type": "execute_result",
          "data": {
            "text/plain": [
              "42.0"
            ]
          },
          "metadata": {
            "tags": []
          },
          "execution_count": 125
        }
      ]
    }
  ]
}